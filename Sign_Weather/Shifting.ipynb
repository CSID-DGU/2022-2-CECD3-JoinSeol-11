{
  "nbformat": 4,
  "nbformat_minor": 0,
  "metadata": {
    "colab": {
      "provenance": []
    },
    "kernelspec": {
      "name": "python3",
      "display_name": "Python 3"
    },
    "language_info": {
      "name": "python"
    }
  },
  "cells": [
    {
      "cell_type": "code",
      "execution_count": 1,
      "metadata": {
        "colab": {
          "base_uri": "https://localhost:8080/"
        },
        "id": "l8H8S8KmtPRi",
        "outputId": "4720706d-ed3f-4c74-e51d-3ad9a105ab80"
      },
      "outputs": [
        {
          "output_type": "stream",
          "name": "stdout",
          "text": [
            "Mounted at /content/drive\n"
          ]
        }
      ],
      "source": [
        "from google.colab import drive\n",
        "drive.mount('/content/drive')"
      ]
    },
    {
      "cell_type": "code",
      "source": [
        "%cd /content/drive/MyDrive/Hyejeong"
      ],
      "metadata": {
        "colab": {
          "base_uri": "https://localhost:8080/"
        },
        "id": "nEPkelyP8GFQ",
        "outputId": "a0cd6f35-a586-46f6-b470-04c5c2cfa6ac"
      },
      "execution_count": 2,
      "outputs": [
        {
          "output_type": "stream",
          "name": "stdout",
          "text": [
            "/content/drive/MyDrive/Hyejeong\n"
          ]
        }
      ]
    },
    {
      "cell_type": "code",
      "source": [
        "import pandas as pd\n",
        "from glob import glob\n",
        "import numpy as np\n",
        "np.set_printoptions(precision=6, suppress=True)\n",
        "\n",
        "raw_dataset = np.loadtxt(\"HAND_09.csv\", delimiter=\",\")\n",
        "aug_dataset = raw_dataset\n",
        "\n",
        "print(raw_dataset.shape) # (1600, 86)\n",
        "print(raw_dataset)\n",
        "\n",
        "for index_c, temp_row in enumerate(raw_dataset[:,:84]):\n",
        "  for index_r, value in enumerate(temp_row):\n",
        "    if (index_r % 2 == 0) and (value != 0) :\n",
        "      aug_dataset[index_c, index_r] = value - 20\n",
        "\n",
        "print(aug_dataset.shape)\n",
        "print(aug_dataset)"
      ],
      "metadata": {
        "colab": {
          "base_uri": "https://localhost:8080/"
        },
        "id": "SVn-uli-7p4e",
        "outputId": "0e8e7c0d-fe70-4864-953f-40cbe6f64ac6"
      },
      "execution_count": 3,
      "outputs": [
        {
          "output_type": "stream",
          "name": "stdout",
          "text": [
            "(1600, 86)\n",
            "[[1164.  865. 1173. ... 1027.    0.    9.]\n",
            " [1164.  865. 1168. ... 1030.    1.    9.]\n",
            " [1163.  867. 1170. ... 1047.    2.    9.]\n",
            " ...\n",
            " [1064.  893. 1042. ...  971.   17.    9.]\n",
            " [1063.  897. 1041. ...  982.   18.    9.]\n",
            " [1063.  897. 1040. ...  983.   19.    9.]]\n",
            "(1600, 86)\n",
            "[[1144.  865. 1153. ... 1027.    0.    9.]\n",
            " [1144.  865. 1148. ... 1030.    1.    9.]\n",
            " [1143.  867. 1150. ... 1047.    2.    9.]\n",
            " ...\n",
            " [1044.  893. 1022. ...  971.   17.    9.]\n",
            " [1043.  897. 1021. ...  982.   18.    9.]\n",
            " [1043.  897. 1020. ...  983.   19.    9.]]\n"
          ]
        }
      ]
    },
    {
      "cell_type": "code",
      "source": [
        "df = pd.DataFrame(aug_dataset)\n",
        "df.to_csv('HAND_09_Shift.csv', header=False, index=False) # csv파일로 저장"
      ],
      "metadata": {
        "id": "kFvxMwIVHeK4"
      },
      "execution_count": 4,
      "outputs": []
    }
  ]
}