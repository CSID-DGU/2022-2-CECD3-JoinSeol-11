{
  "nbformat": 4,
  "nbformat_minor": 0,
  "metadata": {
    "colab": {
      "provenance": []
    },
    "kernelspec": {
      "name": "python3",
      "display_name": "Python 3"
    },
    "language_info": {
      "name": "python"
    }
  },
  "cells": [
    {
      "cell_type": "code",
      "execution_count": null,
      "metadata": {
        "colab": {
          "base_uri": "https://localhost:8080/"
        },
        "id": "25P0IZRRXFdT",
        "outputId": "d20b72c8-7f2e-4bdb-e274-101ebb830522"
      },
      "outputs": [
        {
          "output_type": "stream",
          "name": "stdout",
          "text": [
            "Mounted at /content/drive\n"
          ]
        }
      ],
      "source": [
        "from google.colab import drive\n",
        "drive.mount('/content/drive')"
      ]
    },
    {
      "cell_type": "code",
      "source": [
        "import pandas as pd\n",
        "import glob\n",
        "import os\n",
        "\n",
        "df = os.listdir('/content/drive/MyDrive/aihub_csv') # csv파일이 들어있는 디렉토리 경로\n",
        "df"
      ],
      "metadata": {
        "colab": {
          "base_uri": "https://localhost:8080/"
        },
        "id": "TZB7zQsBbsem",
        "outputId": "2dcd3afb-4b40-484d-cf67-67b1237f5ecb"
      },
      "execution_count": null,
      "outputs": [
        {
          "output_type": "execute_result",
          "data": {
            "text/plain": [
              "['hand_all_00.csv', 'hand_all_01.csv']"
            ]
          },
          "metadata": {},
          "execution_count": 3
        }
      ]
    },
    {
      "cell_type": "code",
      "source": [
        "data = pd.DataFrame()\n",
        "\n",
        "for i in df:\n",
        "  PATH = '/content/drive/MyDrive/aihub_csv/'+i\n",
        "  add = pd.read_csv(PATH, header = None)\n",
        "  data = pd.concat([data, add])\n",
        "  print(data.shape)\n",
        "\n",
        "data.to_csv('/content/drive/MyDrive/aihub_csv/HAND_ALL.csv', header=False, index=False) # merge하여 output csv파일"
      ],
      "metadata": {
        "colab": {
          "base_uri": "https://localhost:8080/"
        },
        "id": "8yFZJnjKbyYu",
        "outputId": "32dc6968-3322-451c-ea5a-1f366ff4d646"
      },
      "execution_count": null,
      "outputs": [
        {
          "output_type": "stream",
          "name": "stdout",
          "text": [
            "(1600, 86)\n",
            "(3200, 86)\n"
          ]
        }
      ]
    }
  ]
}