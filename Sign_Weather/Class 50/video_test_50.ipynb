{
  "nbformat": 4,
  "nbformat_minor": 0,
  "metadata": {
    "colab": {
      "provenance": []
    },
    "kernelspec": {
      "name": "python3",
      "display_name": "Python 3"
    },
    "language_info": {
      "name": "python"
    },
    "accelerator": "GPU",
    "gpuClass": "standard"
  },
  "cells": [
    {
      "cell_type": "code",
      "execution_count": 1,
      "metadata": {
        "colab": {
          "base_uri": "https://localhost:8080/"
        },
        "id": "hP4U2FLOdqpY",
        "outputId": "3eb4b5b9-bf1e-4920-eb91-f9d0f8a004c7"
      },
      "outputs": [
        {
          "output_type": "stream",
          "name": "stdout",
          "text": [
            "Mounted at /content/drive\n"
          ]
        }
      ],
      "source": [
        "from google.colab import drive\n",
        "drive.mount('/content/drive')"
      ]
    },
    {
      "cell_type": "code",
      "source": [
        "%cd /content/drive/MyDrive/조인설"
      ],
      "metadata": {
        "colab": {
          "base_uri": "https://localhost:8080/"
        },
        "id": "bUAJErKheKbD",
        "outputId": "85929ad0-2f5a-45c5-a7ba-e09467b4f86c"
      },
      "execution_count": 2,
      "outputs": [
        {
          "output_type": "stream",
          "name": "stdout",
          "text": [
            "/content/drive/MyDrive/조인설\n"
          ]
        }
      ]
    },
    {
      "cell_type": "code",
      "source": [
        "! python -m pip install --upgrade pip"
      ],
      "metadata": {
        "colab": {
          "base_uri": "https://localhost:8080/"
        },
        "id": "UVinuDeXeMzT",
        "outputId": "0a4c1582-ece1-402f-c9d6-9a9e8beb10af"
      },
      "execution_count": 3,
      "outputs": [
        {
          "output_type": "stream",
          "name": "stdout",
          "text": [
            "Looking in indexes: https://pypi.org/simple, https://us-python.pkg.dev/colab-wheels/public/simple/\n",
            "Requirement already satisfied: pip in /usr/local/lib/python3.8/dist-packages (21.1.3)\n",
            "Collecting pip\n",
            "  Downloading pip-22.3.1-py3-none-any.whl (2.1 MB)\n",
            "\u001b[K     |████████████████████████████████| 2.1 MB 33.8 MB/s \n",
            "\u001b[?25hInstalling collected packages: pip\n",
            "  Attempting uninstall: pip\n",
            "    Found existing installation: pip 21.1.3\n",
            "    Uninstalling pip-21.1.3:\n",
            "      Successfully uninstalled pip-21.1.3\n",
            "Successfully installed pip-22.3.1\n"
          ]
        }
      ]
    },
    {
      "cell_type": "code",
      "source": [
        "! pip install ffmpeg-python"
      ],
      "metadata": {
        "colab": {
          "base_uri": "https://localhost:8080/"
        },
        "id": "2iAEq301gTew",
        "outputId": "c266195c-2738-4726-b2c1-4378f9ebc549"
      },
      "execution_count": 4,
      "outputs": [
        {
          "output_type": "stream",
          "name": "stdout",
          "text": [
            "Looking in indexes: https://pypi.org/simple, https://us-python.pkg.dev/colab-wheels/public/simple/\n",
            "Collecting ffmpeg-python\n",
            "  Downloading ffmpeg_python-0.2.0-py3-none-any.whl (25 kB)\n",
            "Requirement already satisfied: future in /usr/local/lib/python3.8/dist-packages (from ffmpeg-python) (0.16.0)\n",
            "Installing collected packages: ffmpeg-python\n",
            "Successfully installed ffmpeg-python-0.2.0\n",
            "\u001b[33mWARNING: Running pip as the 'root' user can result in broken permissions and conflicting behaviour with the system package manager. It is recommended to use a virtual environment instead: https://pip.pypa.io/warnings/venv\u001b[0m\u001b[33m\n",
            "\u001b[0m"
          ]
        }
      ]
    },
    {
      "cell_type": "code",
      "source": [
        "import copy\n",
        "import numpy as np\n",
        "import pandas as pd\n",
        "import cv2\n",
        "from glob import glob\n",
        "import os\n",
        "import os.path\n",
        "import argparse\n",
        "import json\n",
        "import matplotlib.pyplot as plt\n",
        "import argparse\n",
        "import subprocess\n",
        "import sys\n",
        "from pathlib import Path\n",
        "from typing import NamedTuple\n",
        "import ffmpeg\n",
        "\n",
        "# openpose setup\n",
        "from src import model\n",
        "from src import util\n",
        "from src.body import Body\n",
        "from src.hand import Hand\n",
        "\n",
        "modelpt='model'\n",
        "body_estimation = Body(modelpt+'/body_pose_model.pth')\n",
        "hand_estimation = Hand(modelpt+'/hand_pose_model.pth')"
      ],
      "metadata": {
        "id": "BAjE-G8sttR0"
      },
      "execution_count": 5,
      "outputs": []
    },
    {
      "cell_type": "markdown",
      "source": [
        "### Keypoint Estimation"
      ],
      "metadata": {
        "id": "Ofwlfo0XbIFp"
      }
    },
    {
      "cell_type": "code",
      "source": [
        "video_file = 'Test Video/NIA_SL_WORD1123_REAL17_F.mp4'"
      ],
      "metadata": {
        "id": "aT5uv1GasdgI"
      },
      "execution_count": 6,
      "outputs": []
    },
    {
      "cell_type": "code",
      "source": [
        "class OpenPose():\n",
        "    def __init__(self,modelpath):  \n",
        "        self.body_estimation = Body(modelpath+'/body_pose_model.pth')\n",
        "        self.hand_estimation = Hand(modelpath+'/hand_pose_model.pth')\n",
        "\n",
        "    def handpt(self, oriImg):    \n",
        "        candidate, subset = self.body_estimation(oriImg)\n",
        "        canvas = copy.deepcopy(oriImg)\n",
        "        canvas = util.draw_bodypose(canvas, candidate, subset)\n",
        "\n",
        "        hands_list = util.handDetect(candidate, subset, oriImg)\n",
        "        all_hand_peaks = []\n",
        "        cnt=0\n",
        "        \n",
        "        for x, y, w, is_left in hands_list:\n",
        "            peaks = self.hand_estimation(oriImg[y:y+w, x:x+w, :])\n",
        "            peaks[:, 0] = np.where(peaks[:, 0]==0, peaks[:, 0], peaks[:, 0]+x)\n",
        "            peaks[:, 1] = np.where(peaks[:, 1]==0, peaks[:, 1], peaks[:, 1]+y)\n",
        "\n",
        "            all_hand_peaks.append(peaks)\n",
        "            \n",
        "        return all_hand_peaks"
      ],
      "metadata": {
        "id": "cG75Mrs9sPB5"
      },
      "execution_count": 7,
      "outputs": []
    },
    {
      "cell_type": "code",
      "source": [
        "class FFProbeResult(NamedTuple):\n",
        "    return_code: int\n",
        "    json: str\n",
        "    error: str\n",
        "\n",
        "def ffprobe(file_path) -> FFProbeResult:\n",
        "    command_array = [\"ffprobe\",\n",
        "                     \"-v\", \"quiet\",\n",
        "                     \"-print_format\", \"json\",\n",
        "                     \"-show_format\",\n",
        "                     \"-show_streams\",\n",
        "                     file_path]\n",
        "    result = subprocess.run(command_array, stdout=subprocess.PIPE, stderr=subprocess.PIPE, universal_newlines=True)\n",
        "    return FFProbeResult(return_code=result.returncode,\n",
        "                         json=result.stdout,\n",
        "                         error=result.stderr)\n",
        "\n",
        "def process_frame(frame, body=True, hands=True):\n",
        "    canvas = copy.deepcopy(frame)\n",
        "    if body:\n",
        "        candidate, subset = body_estimation(frame)\n",
        "        canvas = util.draw_bodypose(canvas, candidate, subset)\n",
        "    if hands:\n",
        "        hands_list = util.handDetect(candidate, subset, frame)\n",
        "        all_hand_peaks = []\n",
        "        for x, y, w, is_left in hands_list:\n",
        "            peaks = hand_estimation(frame[y:y+w, x:x+w, :])\n",
        "            peaks[:, 0] = np.where(peaks[:, 0]==0, peaks[:, 0], peaks[:, 0]+x)\n",
        "            peaks[:, 1] = np.where(peaks[:, 1]==0, peaks[:, 1], peaks[:, 1]+y)\n",
        "            all_hand_peaks.append(peaks)\n",
        "        canvas = util.draw_handpose(canvas, all_hand_peaks)\n",
        "    return canvas\n",
        "\n",
        "class Writer():\n",
        "    def __init__(self, output_file, input_fps, input_framesize, input_pix_fmt,\n",
        "                 input_vcodec):\n",
        "        if os.path.exists(output_file):\n",
        "            os.remove(output_file)\n",
        "        self.ff_proc = (\n",
        "            ffmpeg\n",
        "            .input('pipe:',\n",
        "                   format='rawvideo',\n",
        "                   pix_fmt=\"bgr24\",\n",
        "                   s='%sx%s'%(input_framesize[1],input_framesize[0]),\n",
        "                   r=input_fps)\n",
        "            .output(output_file, pix_fmt=input_pix_fmt, vcodec=input_vcodec)\n",
        "            .overwrite_output()\n",
        "            .run_async(pipe_stdin=True)\n",
        "        )\n",
        "\n",
        "    def __call__(self, frame):\n",
        "        self.ff_proc.stdin.write(frame.tobytes())\n",
        "\n",
        "    def close(self):\n",
        "        self.ff_proc.stdin.close()\n",
        "        self.ff_proc.wait()"
      ],
      "metadata": {
        "id": "epLQkLB8vaOu"
      },
      "execution_count": 8,
      "outputs": []
    },
    {
      "cell_type": "code",
      "source": [
        "if __name__ == \"__main__\":\n",
        "    flist=list()\n",
        "    pose = OpenPose(modelpt)\n",
        "    arr = []\n",
        "    temp_peaks = [] #이전 frame의 keypoint\n",
        "    \n",
        "    vidcap = cv2.VideoCapture(video_file)\n",
        "\n",
        "    # get video file info\n",
        "    ffprobe_result = ffprobe(video_file)\n",
        "    info = json.loads(ffprobe_result.json)\n",
        "    videoinfo = [i for i in info[\"streams\"] if i[\"codec_type\"] == \"video\"][0]\n",
        "    input_fps = videoinfo[\"avg_frame_rate\"]\n",
        "    # input_fps = float(input_fps[0])/float(input_fps[1])\n",
        "    input_pix_fmt = videoinfo[\"pix_fmt\"]\n",
        "    input_vcodec = videoinfo[\"codec_name\"]\n",
        "    \n",
        "    # define a writer object to write to a movidified file\n",
        "    postfix = info[\"format\"][\"format_name\"].split(\",\")[0]\n",
        "    output_file = \".\".join(video_file.split(\".\")[:-1])+\".processed.\" + postfix\n",
        "\n",
        "    count = 0\n",
        "    writer = None\n",
        "\n",
        "    while(vidcap.isOpened()):\n",
        "        ret, frame = vidcap.read()\n",
        "        if not ret:\n",
        "          break\n",
        "\n",
        "        # 영상 길이에 따라 이미지 추출 간격 조정\n",
        "        total_frame_count = vidcap.get(cv2.CAP_PROP_FRAME_COUNT)\n",
        "        image = int(total_frame_count/20)\n",
        "\n",
        "        # frame 당 하나씩 이미지 추출\n",
        "        if(int(vidcap.get(1)) % image == 0 and count < 20):\n",
        "          position = pose.handpt(frame)\n",
        "          out_arr = np.ravel(position, order='C') # shape 수정, 1차원으로 만들기(0:84)\n",
        "\n",
        "          if out_arr.size == 44:\n",
        "            out_arr = temp_peaks.reshape(1, 84)\n",
        "          if out_arr.size == 84:\n",
        "            temp_peaks = out_arr\n",
        "            out_arr = out_arr.reshape(1, 84)\n",
        "\n",
        "          arr = np.append(arr, out_arr) # 뒤에 append\n",
        "          \n",
        "          posed_frame = process_frame(frame)\n",
        "\n",
        "          if writer is None:\n",
        "            input_framesize = posed_frame.shape[:2]\n",
        "            writer = Writer(output_file, input_fps, input_framesize, input_pix_fmt,\n",
        "                        input_vcodec)\n",
        "          # write the frame\n",
        "          writer(posed_frame)\n",
        "          count += 1\n",
        "\n",
        "    vidcap.release()\n",
        "    writer.close()\n",
        "    cv2.destroyAllWindows()"
      ],
      "metadata": {
        "id": "ogoe-l2UsSCv"
      },
      "execution_count": 9,
      "outputs": []
    },
    {
      "cell_type": "markdown",
      "source": [
        "### Prediction"
      ],
      "metadata": {
        "id": "_zwZMChmdoiG"
      }
    },
    {
      "cell_type": "code",
      "source": [
        "from sklearn.preprocessing import Normalizer\n",
        "import tensorflow as tf\n",
        "\n",
        "X = arr.reshape(1,1680)\n",
        "transformer = Normalizer().fit(X)\n",
        "X = transformer.transform(X)\n",
        "\n",
        "model = tf.keras.models.load_model('class 50/model_50.h5')\n",
        "y_predict = model.predict(X)\n",
        "label = y_predict[0].argmax()\n",
        "\n",
        "CLASSES = [\"춥다\", \"덥다\", \"먹구름\", \"바람\", \"비\", \"온도\", \"장마\", \"햇빛\", \"싫다\", \"좋다\", \"양산\", \"체온\", \"하늘\", \"강풍\", \"따뜻하다\", \"홍수\", \"예정\", \"사계절\", \"눈\", \"뙤약볕\",\n",
        "           \"감기\", \"에어컨\", \"체감\", \"경고\", \"찻길\", \"출근\", \"강\", \"파도\", \"어젯밤\", \"방금\", \"어떻게\", \"자정\", \"아까\", \"최대\", \"최소\", \"평일\", \"깜깜하다\", \"틀림없다\", \"매일매일\", \"혹시\",\n",
        "           \"들어맞다\", \"사라지다\", \"오래도록\", \"찰나\", \"이미\", \"순식간\", \"모르다\", \"불가능\", \"충분\", \"불안\"]\n",
        "           \n",
        "print('Label: ', label)\n",
        "print('Translation: ', CLASSES[label])"
      ],
      "metadata": {
        "colab": {
          "base_uri": "https://localhost:8080/"
        },
        "id": "1NNju2Hm0RBf",
        "outputId": "560cad99-410b-4144-eb9e-47673592be39"
      },
      "execution_count": 10,
      "outputs": [
        {
          "output_type": "stream",
          "name": "stdout",
          "text": [
            "1/1 [==============================] - 2s 2s/step\n",
            "Label:  49\n",
            "Translation:  불안\n"
          ]
        }
      ]
    },
    {
      "cell_type": "markdown",
      "source": [
        "### Recognition Result"
      ],
      "metadata": {
        "id": "BkZwUYRVdv-l"
      }
    },
    {
      "cell_type": "code",
      "source": [
        "import cv2\n",
        "from IPython.display import HTML, display, Javascript\n",
        "from base64 import b64encode\n",
        "\n",
        "def show_video(video_path, class_name, video_width = 600):\n",
        "  \n",
        "  video_file = open(video_path, \"r+b\").read()\n",
        " \n",
        "  video_url = f\"data:video/mp4;base64,{b64encode(video_file).decode()}\"\n",
        "  return HTML(f\"\"\"<video width={video_width} controls><source src=\"{video_url}\"></video><div style=\"position:absolute; top:55px; left:20px; font-size:20px; color:#ffffff;\">{class_name}</div>\"\"\")\n",
        "\n",
        "print('Label: ', label)\n",
        "print('Translation: ', CLASSES[label])\n",
        "show_video(output_file, CLASSES[label])"
      ],
      "metadata": {
        "colab": {
          "base_uri": "https://localhost:8080/",
          "height": 395
        },
        "id": "eoGk2y-PLwHa",
        "outputId": "70652d16-f813-4c1f-983c-a1431d3c1d18"
      },
      "execution_count": 11,
      "outputs": [
        {
          "output_type": "stream",
          "name": "stdout",
          "text": [
            "Label:  49\n",
            "Translation:  불안\n"
          ]
        },
        {
          "output_type": "execute_result",
          "data": {
            "text/plain": [
              "<IPython.core.display.HTML object>"
            ],
            "text/html": [
              "<video width=600 controls><source src=\"data:video/mp4;base64,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\"></video><div style=\"position:absolute; top:55px; left:20px; font-size:20px; color:#ffffff;\">불안</div>"
            ]
          },
          "metadata": {},
          "execution_count": 11
        }
      ]
    }
  ]
}