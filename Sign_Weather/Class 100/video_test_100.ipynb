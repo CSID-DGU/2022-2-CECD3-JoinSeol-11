{
  "nbformat": 4,
  "nbformat_minor": 0,
  "metadata": {
    "colab": {
      "provenance": []
    },
    "kernelspec": {
      "name": "python3",
      "display_name": "Python 3"
    },
    "language_info": {
      "name": "python"
    },
    "accelerator": "GPU",
    "gpuClass": "standard"
  },
  "cells": [
    {
      "cell_type": "code",
      "execution_count": 1,
      "metadata": {
        "colab": {
          "base_uri": "https://localhost:8080/"
        },
        "id": "hP4U2FLOdqpY",
        "outputId": "2a42bb2d-05c4-4dca-8e78-841020206d64"
      },
      "outputs": [
        {
          "output_type": "stream",
          "name": "stdout",
          "text": [
            "Mounted at /content/drive\n"
          ]
        }
      ],
      "source": [
        "from google.colab import drive\n",
        "drive.mount('/content/drive')"
      ]
    },
    {
      "cell_type": "code",
      "source": [
        "%cd /content/drive/MyDrive/조인설"
      ],
      "metadata": {
        "colab": {
          "base_uri": "https://localhost:8080/"
        },
        "id": "bUAJErKheKbD",
        "outputId": "72001b49-0865-4776-e25d-3d0ed3174c41"
      },
      "execution_count": 2,
      "outputs": [
        {
          "output_type": "stream",
          "name": "stdout",
          "text": [
            "/content/drive/MyDrive/조인설\n"
          ]
        }
      ]
    },
    {
      "cell_type": "code",
      "source": [
        "! python -m pip install --upgrade pip"
      ],
      "metadata": {
        "colab": {
          "base_uri": "https://localhost:8080/"
        },
        "id": "UVinuDeXeMzT",
        "outputId": "b3bc664b-88fb-4c55-afcc-4a04e567e549"
      },
      "execution_count": 3,
      "outputs": [
        {
          "output_type": "stream",
          "name": "stdout",
          "text": [
            "Looking in indexes: https://pypi.org/simple, https://us-python.pkg.dev/colab-wheels/public/simple/\n",
            "Requirement already satisfied: pip in /usr/local/lib/python3.8/dist-packages (21.1.3)\n",
            "Collecting pip\n",
            "  Downloading pip-22.3.1-py3-none-any.whl (2.1 MB)\n",
            "\u001b[K     |████████████████████████████████| 2.1 MB 31.1 MB/s \n",
            "\u001b[?25hInstalling collected packages: pip\n",
            "  Attempting uninstall: pip\n",
            "    Found existing installation: pip 21.1.3\n",
            "    Uninstalling pip-21.1.3:\n",
            "      Successfully uninstalled pip-21.1.3\n",
            "Successfully installed pip-22.3.1\n"
          ]
        }
      ]
    },
    {
      "cell_type": "code",
      "source": [
        "! pip install ffmpeg-python"
      ],
      "metadata": {
        "colab": {
          "base_uri": "https://localhost:8080/"
        },
        "id": "2iAEq301gTew",
        "outputId": "67c9480b-f3ba-47d3-f49c-326e714d8741"
      },
      "execution_count": 4,
      "outputs": [
        {
          "output_type": "stream",
          "name": "stdout",
          "text": [
            "Looking in indexes: https://pypi.org/simple, https://us-python.pkg.dev/colab-wheels/public/simple/\n",
            "Collecting ffmpeg-python\n",
            "  Downloading ffmpeg_python-0.2.0-py3-none-any.whl (25 kB)\n",
            "Requirement already satisfied: future in /usr/local/lib/python3.8/dist-packages (from ffmpeg-python) (0.16.0)\n",
            "Installing collected packages: ffmpeg-python\n",
            "Successfully installed ffmpeg-python-0.2.0\n",
            "\u001b[33mWARNING: Running pip as the 'root' user can result in broken permissions and conflicting behaviour with the system package manager. It is recommended to use a virtual environment instead: https://pip.pypa.io/warnings/venv\u001b[0m\u001b[33m\n",
            "\u001b[0m"
          ]
        }
      ]
    },
    {
      "cell_type": "code",
      "source": [
        "import copy\n",
        "import numpy as np\n",
        "import pandas as pd\n",
        "import cv2\n",
        "from glob import glob\n",
        "import os\n",
        "import os.path\n",
        "import argparse\n",
        "import json\n",
        "import matplotlib.pyplot as plt\n",
        "import argparse\n",
        "import subprocess\n",
        "import sys\n",
        "from pathlib import Path\n",
        "from typing import NamedTuple\n",
        "import ffmpeg\n",
        "\n",
        "# openpose setup\n",
        "from src import model\n",
        "from src import util\n",
        "from src.body import Body\n",
        "from src.hand import Hand\n",
        "\n",
        "modelpt='model'\n",
        "body_estimation = Body(modelpt+'/body_pose_model.pth')\n",
        "hand_estimation = Hand(modelpt+'/hand_pose_model.pth')"
      ],
      "metadata": {
        "id": "BAjE-G8sttR0"
      },
      "execution_count": 5,
      "outputs": []
    },
    {
      "cell_type": "markdown",
      "source": [
        "### Keypoint Estimation"
      ],
      "metadata": {
        "id": "Ofwlfo0XbIFp"
      }
    },
    {
      "cell_type": "code",
      "source": [
        "video_file = 'Test Video/NIA_SL_WORD1128_REAL18_F.mp4'"
      ],
      "metadata": {
        "id": "aT5uv1GasdgI"
      },
      "execution_count": 6,
      "outputs": []
    },
    {
      "cell_type": "code",
      "source": [
        "class OpenPose():\n",
        "    def __init__(self,modelpath):  \n",
        "        self.body_estimation = Body(modelpath+'/body_pose_model.pth')\n",
        "        self.hand_estimation = Hand(modelpath+'/hand_pose_model.pth')\n",
        "\n",
        "    def handpt(self, oriImg):    \n",
        "        candidate, subset = self.body_estimation(oriImg)\n",
        "        canvas = copy.deepcopy(oriImg)\n",
        "        canvas = util.draw_bodypose(canvas, candidate, subset)\n",
        "\n",
        "        hands_list = util.handDetect(candidate, subset, oriImg)\n",
        "        all_hand_peaks = []\n",
        "        cnt=0\n",
        "        \n",
        "        for x, y, w, is_left in hands_list:\n",
        "            peaks = self.hand_estimation(oriImg[y:y+w, x:x+w, :])\n",
        "            peaks[:, 0] = np.where(peaks[:, 0]==0, peaks[:, 0], peaks[:, 0]+x)\n",
        "            peaks[:, 1] = np.where(peaks[:, 1]==0, peaks[:, 1], peaks[:, 1]+y)\n",
        "\n",
        "            all_hand_peaks.append(peaks)\n",
        "\n",
        "        return all_hand_peaks"
      ],
      "metadata": {
        "id": "cG75Mrs9sPB5"
      },
      "execution_count": 7,
      "outputs": []
    },
    {
      "cell_type": "code",
      "source": [
        "class FFProbeResult(NamedTuple):\n",
        "    return_code: int\n",
        "    json: str\n",
        "    error: str\n",
        "\n",
        "def ffprobe(file_path) -> FFProbeResult:\n",
        "    command_array = [\"ffprobe\",\n",
        "                     \"-v\", \"quiet\",\n",
        "                     \"-print_format\", \"json\",\n",
        "                     \"-show_format\",\n",
        "                     \"-show_streams\",\n",
        "                     file_path]\n",
        "    result = subprocess.run(command_array, stdout=subprocess.PIPE, stderr=subprocess.PIPE, universal_newlines=True)\n",
        "    return FFProbeResult(return_code=result.returncode,\n",
        "                         json=result.stdout,\n",
        "                         error=result.stderr)\n",
        "\n",
        "def process_frame(frame, body=True, hands=True):\n",
        "    canvas = copy.deepcopy(frame)\n",
        "    if body:\n",
        "        candidate, subset = body_estimation(frame)\n",
        "        canvas = util.draw_bodypose(canvas, candidate, subset)\n",
        "    if hands:\n",
        "        hands_list = util.handDetect(candidate, subset, frame)\n",
        "        all_hand_peaks = []\n",
        "        for x, y, w, is_left in hands_list:\n",
        "            peaks = hand_estimation(frame[y:y+w, x:x+w, :])\n",
        "            peaks[:, 0] = np.where(peaks[:, 0]==0, peaks[:, 0], peaks[:, 0]+x)\n",
        "            peaks[:, 1] = np.where(peaks[:, 1]==0, peaks[:, 1], peaks[:, 1]+y)\n",
        "            all_hand_peaks.append(peaks)\n",
        "        canvas = util.draw_handpose(canvas, all_hand_peaks)\n",
        "    return canvas\n",
        "\n",
        "class Writer():\n",
        "    def __init__(self, output_file, input_fps, input_framesize, input_pix_fmt,\n",
        "                 input_vcodec):\n",
        "        if os.path.exists(output_file):\n",
        "            os.remove(output_file)\n",
        "        self.ff_proc = (\n",
        "            ffmpeg\n",
        "            .input('pipe:',\n",
        "                   format='rawvideo',\n",
        "                   pix_fmt=\"bgr24\",\n",
        "                   s='%sx%s'%(input_framesize[1],input_framesize[0]),\n",
        "                   r=input_fps)\n",
        "            .output(output_file, pix_fmt=input_pix_fmt, vcodec=input_vcodec)\n",
        "            .overwrite_output()\n",
        "            .run_async(pipe_stdin=True)\n",
        "        )\n",
        "\n",
        "    def __call__(self, frame):\n",
        "        self.ff_proc.stdin.write(frame.tobytes())\n",
        "\n",
        "    def close(self):\n",
        "        self.ff_proc.stdin.close()\n",
        "        self.ff_proc.wait()"
      ],
      "metadata": {
        "id": "epLQkLB8vaOu"
      },
      "execution_count": 8,
      "outputs": []
    },
    {
      "cell_type": "code",
      "source": [
        "if __name__ == \"__main__\":\n",
        "    flist=list()\n",
        "    pose = OpenPose(modelpt)\n",
        "    arr = []\n",
        "    temp_peaks = [] #이전 frame의 keypoint\n",
        "    \n",
        "    vidcap = cv2.VideoCapture(video_file)\n",
        "\n",
        "    # get video file info\n",
        "    ffprobe_result = ffprobe(video_file)\n",
        "    info = json.loads(ffprobe_result.json)\n",
        "    videoinfo = [i for i in info[\"streams\"] if i[\"codec_type\"] == \"video\"][0]\n",
        "    input_fps = videoinfo[\"avg_frame_rate\"]\n",
        "    # input_fps = float(input_fps[0])/float(input_fps[1])\n",
        "    input_pix_fmt = videoinfo[\"pix_fmt\"]\n",
        "    input_vcodec = videoinfo[\"codec_name\"]\n",
        "    \n",
        "    # define a writer object to write to a movidified file\n",
        "    postfix = info[\"format\"][\"format_name\"].split(\",\")[0]\n",
        "    output_file = \".\".join(video_file.split(\".\")[:-1])+\".processed.\" + postfix\n",
        "\n",
        "    count = 0\n",
        "    writer = None\n",
        "\n",
        "    while(vidcap.isOpened()):\n",
        "        ret, frame = vidcap.read()\n",
        "        if not ret:\n",
        "          break\n",
        "\n",
        "        # 영상 길이에 따라 이미지 추출 간격 조정\n",
        "        total_frame_count = vidcap.get(cv2.CAP_PROP_FRAME_COUNT)\n",
        "        image = int(total_frame_count/20)\n",
        "\n",
        "        # frame 당 하나씩 이미지 추출\n",
        "        if(int(vidcap.get(1)) % image == 0 and count < 20):\n",
        "          position = pose.handpt(frame)\n",
        "          out_arr = np.ravel(position, order='C') # shape 수정, 1차원으로 만들기(0:84)\n",
        "\n",
        "          if out_arr.size == 44:\n",
        "            out_arr = temp_peaks.reshape(1, 84)\n",
        "          if out_arr.size == 84:\n",
        "            temp_peaks = out_arr\n",
        "            out_arr = out_arr.reshape(1, 84)\n",
        "\n",
        "          arr = np.append(arr, out_arr) # 뒤에 append\n",
        "          \n",
        "          posed_frame = process_frame(frame)\n",
        "\n",
        "          if writer is None:\n",
        "            input_framesize = posed_frame.shape[:2]\n",
        "            writer = Writer(output_file, input_fps, input_framesize, input_pix_fmt,\n",
        "                        input_vcodec)\n",
        "          # write the frame\n",
        "          writer(posed_frame)\n",
        "          count += 1\n",
        "\n",
        "    vidcap.release()\n",
        "    writer.close()\n",
        "    cv2.destroyAllWindows()"
      ],
      "metadata": {
        "id": "ogoe-l2UsSCv"
      },
      "execution_count": 9,
      "outputs": []
    },
    {
      "cell_type": "markdown",
      "source": [
        "### Prediction"
      ],
      "metadata": {
        "id": "_zwZMChmdoiG"
      }
    },
    {
      "cell_type": "code",
      "source": [
        "from sklearn.preprocessing import Normalizer\n",
        "import tensorflow as tf\n",
        "\n",
        "X = arr.reshape(1,1680)\n",
        "transformer = Normalizer().fit(X)\n",
        "X = transformer.transform(X)\n",
        "\n",
        "model = tf.keras.models.load_model('class 100/model_100.h5')\n",
        "y_predict = model.predict(X)\n",
        "label = y_predict[0].argmax()\n",
        "\n",
        "CLASSES = [\"춥다\", \"덥다\", \"먹구름\", \"바람\", \"비\", \"온도\", \"장마\", \"햇빛\", \"싫다\", \"좋다\", \"양산\", \"체온\", \"하늘\", \"강풍\", \"따뜻하다\", \"홍수\", \"예정\", \"사계절\", \"눈\", \"뙤약볕\",\n",
        "           \"감기\", \"에어컨\", \"체감\", \"경고\", \"찻길\", \"출근\", \"강\", \"파도\", \"어젯밤\", \"방금\", \"어떻게\", \"자정\", \"아까\", \"최대\", \"최소\", \"평일\", \"깜깜하다\", \"틀림없다\", \"매일매일\", \"혹시\",\n",
        "           \"들어맞다\", \"사라지다\", \"오래도록\", \"찰나\", \"이미\", \"순식간\", \"모르다\", \"불가능\", \"충분\", \"불안\",\"당황\", \"원하다\", \"무섭다\", \"빠르다\", \"즐겁다\", \"마지막\", \"오다\", \"깨끗하다\", \"행복\", \"떨다\",\n",
        "           \"조심\",\"변덕\",\"망설이다\",\"희망\",\"힘들다\",\"화나다\",\"놀라다\",\"사람\",\"우울\",\"빨리\", \"못하다\",\"시원하다\",\"기억\",\"무지개\",\"불신\",\"대략\",\"피곤\",\"시작\",\"충격\",\"조용하다\",\n",
        "           \"상상\",\"예견\",\"난감하다\",\"알려주다\",\"잊어버리다\",\"깜빡하다\",\"결코\",\"제법\",\"뜻밖\",\"격노\",\"짜증내다\",\"강물\",\"달\",\"뜨겁다\",\"별\",\"호수\",\"일몰\",\"일출\",\"적중하다\",\"정말\"]\n",
        "\n",
        "print('Label: ', label)\n",
        "print('Translation: ', CLASSES[label])"
      ],
      "metadata": {
        "colab": {
          "base_uri": "https://localhost:8080/"
        },
        "id": "1NNju2Hm0RBf",
        "outputId": "762f06fe-b539-4277-955d-8c8041204448"
      },
      "execution_count": 10,
      "outputs": [
        {
          "output_type": "stream",
          "name": "stdout",
          "text": [
            "1/1 [==============================] - 2s 2s/step\n",
            "Label:  50\n",
            "Translation:  당황\n"
          ]
        }
      ]
    },
    {
      "cell_type": "markdown",
      "source": [
        "### Recognition Result"
      ],
      "metadata": {
        "id": "BkZwUYRVdv-l"
      }
    },
    {
      "cell_type": "code",
      "source": [
        "import cv2\n",
        "from IPython.display import HTML, display, Javascript\n",
        "from base64 import b64encode\n",
        "\n",
        "def show_video(video_path, class_name, video_width = 600):\n",
        "  \n",
        "  video_file = open(video_path, \"r+b\").read()\n",
        " \n",
        "  video_url = f\"data:video/mp4;base64,{b64encode(video_file).decode()}\"\n",
        "  return HTML(f\"\"\"<video width={video_width} controls><source src=\"{video_url}\"></video><div style=\"position:absolute; top:55px; left:20px; font-size:20px; color:#ffffff;\">{class_name}</div>\"\"\")\n",
        "\n",
        "print('Label: ', label)\n",
        "print('Translation: ', CLASSES[label])\n",
        "show_video(output_file, CLASSES[label])"
      ],
      "metadata": {
        "colab": {
          "base_uri": "https://localhost:8080/",
          "height": 395
        },
        "id": "eoGk2y-PLwHa",
        "outputId": "dcf7b76f-d4c8-48c5-d98f-d5afb634dee3"
      },
      "execution_count": 11,
      "outputs": [
        {
          "output_type": "stream",
          "name": "stdout",
          "text": [
            "Label:  50\n",
            "Translation:  당황\n"
          ]
        },
        {
          "output_type": "execute_result",
          "data": {
            "text/plain": [
              "<IPython.core.display.HTML object>"
            ],
            "text/html": [
              "<video width=600 controls><source src=\"data:video/mp4;base64,AAAAFGZ0eXBxdCAgAAACAHF0ICAAAAAId2lkZQAAUmltZGF0AAACrgYF//+q3EXpvebZSLeWLNgg2SPu73gyNjQgLSBjb3JlIDE1MiByMjg1NCBlOWE1OTAzIC0gSC4yNjQvTVBFRy00IEFWQyBjb2RlYyAtIENvcHlsZWZ0IDIwMDMtMjAxNyAtIGh0dHA6Ly93d3cudmlkZW9sYW4ub3JnL3gyNjQuaHRtbCAtIG9wdGlvbnM6IGNhYmFjPTEgcmVmPTMgZGVibG9jaz0xOjA6MCBhbmFseXNlPTB4MzoweDExMyBtZT1oZXggc3VibWU9NyBwc3k9MSBwc3lfcmQ9MS4wMDowLjAwIG1peGVkX3JlZj0xIG1lX3JhbmdlPTE2IGNocm9tYV9tZT0xIHRyZWxsaXM9MSA4eDhkY3Q9MSBjcW09MCBkZWFkem9uZT0yMSwxMSBmYXN0X3Bza2lwPTEgY2hyb21hX3FwX29mZnNldD0tMiB0aHJlYWRzPTMgbG9va2FoZWFkX3RocmVhZHM9MSBzbGljZWRfdGhyZWFkcz0wIG5yPTAgZGVjaW1hdGU9MSBpbnRlcmxhY2VkPTAgYmx1cmF5X2NvbXBhdD0wIGNvbnN0cmFpbmVkX2ludHJhPTAgYmZyYW1lcz0zIGJfcHlyYW1pZD0yIGJfYWRhcHQ9MSBiX2JpYXM9MCBkaXJlY3Q9MSB3ZWlnaHRiPTEgb3Blbl9nb3A9MCB3ZWlnaHRwPTIga2V5aW50PTI1MCBrZXlpbnRfbWluPTI1IHNjZW5lY3V0PTQwIGludHJhX3JlZnJlc2g9MCByY19sb29rYWhlYWQ9NDAgcmM9Y3JmIG1idHJlZT0xIGNyZj0yMy4wIHFjb21wPTAuNjAgcXBtaW49MCBxcG1heD02OSBxcHN0ZXA9NCBpcF9yYXRpbz0xLjQwIGFxPTE6MS4wMACAAAAS3GWIhAP//iFGoFKsVTBeBWCHetLvtUfhxx7oPu//3LE6gfG0ddXGjSj8RLHvGV9PTst6VlQ28ea2jMmtl/Cuyd6LyFRX7TeQpv4Tnv1cm01BtQMbZ0XVwiR5f7t5G30p3PTR1G6Lq4GKj+65nuhxqaRyLFTzucUZEzSB4hhWZAiOZXmFq4YDKxQaQsa2cPV8jLZSP4qLtqK6TsAk3dbHg0MU0zsaJ6w1prWFNOpxzPNhPaPk3Xmd/pznK4akpkr54E8y47iUgZzpQRjS3JrcDdYpHX8OMJwD0qBVJYmr8zPdY60v+qjj6/QMRdmCApiSGAk1E8ZM2Tnov2WRHO5uLSvOhANCmGfmOT4BP0iEu0GKm4NVqf9NsoKUDijh7CWuX+100UMS+utMxWoxuvXCjcUSxVZaPN37bRR+FeAYHN4SHhgiVrkooDjO0DzQvcoCIh/lJ5zFRM/wiFwgL++Om2U/6Gew5MYoeolqKnMXPnP8btf3g5WJ7EWJCQUT+olObtu3svO6M72yn5+5iW87IJe7Sexw2yUHweUkOSiavGLNhqrZKOWDlvGEOtlSRgNlQoJUzvqnq8+Y6CZ8Hp4IbibF5vikFQFFC4M62qyXmG1YTc8orfbzRnvBHtZ3FurS9SI3T+QWQzbIf+4FX6NHJ5w9KsX8uBpzqEP1R3DhJBuxrcCDEBV2kSdzRVy52mvvI7R6ZfKxu68Y4Gq/xQaBuRDWXKA9EiryBp7GE5m9/6uVJYzhbwOwP1QnHZIrr3BJMJ/L86N5C4DceVdVVoiI28y61yvi+muqQ1OScrfF4Ukt+SKPYicRsYptp/MERlUGI2k6D7Ezwk0RRyevc5aPBF8DznPRcECqLnItbn41zO47MufXmzhpKGpk8ekrEXZKs7I9+CHMaKLS+Zp56hMm/Ew3bRb2sHWaHdhOfGdADD9MjMNmkB2TUWsKZjZjNmU2XhvD2iHdpki3W3mz/IVJ72Ivm8EG8xzpqHfRdSWTG/y9f3CcJxtpaupVH8dfbI8Fct+OacXWyywF+BmJ5+QNBgCpbvvexX4UvpQwVZfofNxrJoepMUXseginPXJW0h8mw9mZvBVtQjzj1uEum3n7RmRtyWAC8dgwtibQaAywXkdg9NEbOfJ7ytbIvPJ4QeQKp8HFtgYZl6sXMyK9jHCCxRMsu8Z7aQylhcAhGuVyZsxARA5oPyP/ZkMOccRQRX4cc0Xglsm9SlaULbmK+pPTUQ7P4ctf9PZH9pLvWRmvIRNe7vIXx3MIPkvT/fsapp7ASSe/9fiDK7+eI3khi7qw76EtjND1U+v9gCEn3ZTW/loiZtdLmQBw1BlJraxtXZGl/lzbyg5N77NNYEUaMyiMrCa2PBoNWreOyU9pWcYH+XfGCtaoP5qT0p310r1wBFKhvzcl/xKWf9eWp+DX+YJcU/3sFpLIHu7WmAxpjM+qiRMUCQH7rHFBUR7OoLL65nOc3jw6ZInDcwqMZQGE0ud7Qyo3SudKKjqKirVySPH+ZoK514Fv5kiaK4G7VcsFL9DhYNJp1KtRpCnLglamiHumfII8aET4Wq5Q+r4TirPDDj0APREMbeZERvH2A/7rhdQcZNDPdlnL3kZ8vXs3yflEJlhV5Ccfzua3ys8PaLCrH7VY/yaTxmpFSWCTl6Z5c5ZnUT+S/+SaDe8iqLq/tYBwOFwHdUry0kbE3BJZ7QPV0naCRHo4mBEcinusm+4+zC9eNO0Aq+nae74bXjx9UVOQ6/HCHASmK9YL7TX//2hrDlR85i9VAfMufX5H6j9LAuslEgYM+5n6ruqPvRpwlAXR9s+oYJADYMjj0h6TxFy0Z03glnl7TZWpvN4JPj4sPgFKKWZChDt37+3H3884ts+0u1kQQOWmSFhQz1UooCN8PxdlBav8N+V5oICM3G4laA9NWagNI2eQ16oCcSd6leoYjWykM+1IlXzWf7ROHQkq+C3TSWnR45RVhIfQZ4gKr0824lXFDtgV9jrwNbDUEP/HuPj5Bl7+EBoyJe/LSB4+wESuDVgkm2i3qcs50qD/QbETD3kyeZ9jFrJh9bQ+2Ni9Q2c88yc/2kQy+k7xO73IGjXGGrQ3U+VjXJKuFQPTKOR+U72LlUznss0eBCvO9HuprItA7c6+lSVzn0gxvZw7oS3V86/VgZn5Wm+IAm5OzvAjAo+AhlWIEv6Wf48WRtM+jNWTlcarJK8oprJ8vrq3RMj7CluYtvzualPb2sz0j8hgdMoI33/tIpyszqqTwgj4aG43QyPsbqxDc8NB/6H2NcQa2wfDZBsapggxxLsunsaw/LYSMvi+2XcXyndThZVQhVcayWVFefMZu5w+CY772GWXNkaIsAxdxG63BRIch6C7Fxzavfz7/2MV1ZTZmMJBP4MuwAVuWyP9sbjOOuPJ9dJZmIH3PDCOET2FKWr03Oa+LvOzCbBMbjbkaegX2mPNaBVuPEooWO1Y/YJ19Rnbw3YyemCMYrhramhOW2K2gdQSkoAvJFNdLEFT9XK9s8VzIazqQ2ahddONB/bbjzzV2cKGNgJ/ORDSezbUSiNXhGMN4c6ZS4gb2eX7iSQuMSPNZENwD3ArHN1kpvl/9xeSibWUkwrKdNiJxOe5pGlaTgKUy37hx/p52eDtVkep68pMWxKVLBFYUaxmT4VQ80VCz0znrPNZwBljwP/bMh3XdWT3nYnhNHayWQfEJN9HVARM8vchoLXuLsT1Zsd9c0qtamuJcQJXY4X3jpIT5oUojacukpbcRTPhXXwbR/rH6mp1wOHBgBzfOXBhVnJ3Mh3iQXbNs6939gbIzb2NoWjA20TlYeDs0qfqycxe4BM1MQW4ft9O0/Uez4pSlSVfSjdxkBWEGKUOwr8caJYHMo5EC/Ep87THUIxmhjZ3Rnk19zCuQA1preaI09dMLKbM2THR/n3Mo6s/79tbR5t2HiBIMVygXAs5RjqjFZXCYJw42vE3fJtus3yoFdQbWbALtqlsaBf+Q+eeS7T+qENTcfhqhBlbGZZuo8yCxcMfqcJHeiyRHtC+BAHbC4wr9MsuOq0oqo5i51Df1KDYd+0T1W+0SXrWZ5FFYsKHuPLUh052ogW/t3dzi48+KZDPSj+os+YOVFDw8HbCuAAVR13r10kAQhq0iOetObiyqQRxwMZiaZQ1wjttz1P5nZFf+2EwWV/UWSx9ClrVOZXyv9sa6454WjQIoWz0bqWOS1r/FzKnUOlzE4Mgj9ixssCtYzf8urXDOZru7aUsXtXBXjJMvUmMsmBazgLhkiBv2o0bigc/Grb3bB3BsunwRoOnHje+R6KD/PX6cHY0zY+b60p1pnodfFJJFklbFEKE0BM5aGpfpEuuCHEe1jVQaq8IxK1JST6g8raqjfI3f72ZWRBmYA15lv4cL1+r2dgriCGZaYUd72hedSZNnOJXt95kPh+Ibm6JIH8kCPqcDHiNE4/WiiurYLdWoX+J0W4tjbTljrOsaAgcJndQ3szkfDZtR1YtNLZD/HpDGXLyGE8pqV+jlUsVWmqjO2Y1nO+1g6uXHgC3VjJBjLFrW88yUD0WwOLbkzh+N/ynPUdLUMqBkMIwsbidAtzLBj6yJX1DcwrCbcErOLXJ+/QKNEpPKmuDEyPtUog4vIxurnbzf5B3aDBEcpA6Xgz37WfI52+BlJ8eXsNZxQmYtIs3qCgeYzb9+AI0Y1hsRd87sTU+PEba0XTv/ZLrtuJSTJGe05WsqCXGoBd5/U+rm4Z9tPtcz97eL6z2l7GNJ7yrVUd5COxhpywe2pH44rj1Atz4O2fDUzb7wRAdo/f1gmaxiHHLY0EU1rpNi6WXfKPoT6lxMYiP7/eAHGtFzWMygsCCrDko1tc5VxUqxoDrGv7rJF0/nqBFHpQubkRNp8J2+OBwQeRCdK7mnQELd0gUZDReYS64zRDQwPwnsEzuf/ZRcUHQV0BUqKTfYze/TLIFnBeFQjth2BqvJEr3QlNa+EDOJ8Ab0IJb5B3ZgdXToBwA0WVRcS0RsOtOTo4tATXgyI8sREczryMdXK4wa63D+IiLU/uJ40+eH+mTbgb4zXblf/aqCwSOknM3vSJSCuvkHyKFkgx1vDehqP4l5fh9O3CkZMi6qRE3pTZ8gzvmQ3MetRHHDPCZx4EGu70AD8E/erCzEZYD8atr/SihXYjt7ReWW5eUDoSLRpcR6R5IJaLejaf5TmlkECNKHM0z0qCA4eTHKkCen2zHa/dI71RTb90MzSmAhnPRi29rUVjMLuxLWgHuc1I7Yhqv2ou8JkjHEEiNKLuxCj8k4KZt+0KACFjhtdxe1U9Uzwsp+3mGK0uxnlmieYm2jzGGkT/LZN4G48Y90Lr9e2RDx8YdELyKWWsT7OIYmM+3ba6yyJPxxo4aaqbrEb6i3B+rLRt4anQC/sLI895nwqTfP18xF9lKTeKxQvJDuiDaHujGrYOmnyYUoD/jeeWOLlKeVowtUflHnRjngtpVumVYG3ciYFpwH2M9H6KW5XD+mKV88214+Lfb0TKZ3AJdoBbolPWvRI+vv7ddpLPrmDH5bwd0GVvBRx8VQMcxTaAHHP96z/lAfT/EcsgJDFuek9t0De8jz9KA9aP1rQk52fGhjEhzjqMQksOG4rsXaQTIDRCutvj3WHHzdiM/LsBj6c+HOEoXNwlFmxsHrPYV63SCrS8uKIPeqaq8z/EAZlCZ7HsOUAfyxqjHhWNdpXNzBY0w+AcPZyJMfI07LSlRBCcaiz05Penl52A7w0N2VyMxUwKduNhVqcEtQEhlbxd0IEe/7wQTJnzeoC+fXo9UEDnghrVooR2PRg+EZhAhhFtDFOpMrpd4syO1Dlf7iUZT98w/aMlWOL3D7uLopr2JchpcWh8WOFd59lXJf0tm4gRt4NsQeAvH4bNNpEZpkROFTZSyZSfpXn5Bv0YXL7SU7Lve3TxoHXBM6jRKwTqSwRE68FZvGvGMSsbrJ89t+cruuxCnA0J1EKLrWGz7p0e/I0/ciIyJB+/wrUj+g2iKzlY0yakkG1ZiFz6wp8N6N08Zsc2pc0XtwjAkRVfSeTlljQ06MvT2H+0R8NJB4lJrsXt0L0isLoVplmTQzRXtLmP551EHpoqrrrtko9fcveccnGTKE3ctfYj2E+mQJ4u96SzEoqaPmT0rW6ykYUEGEchTWZbkEFOs9j/zCY/KhrJiSYwlxTJYu/s0qES0l7Jdr0tebkQ284CTT1y4haYnomHrzglkm0iA+iduj1oKi1Hg8VaHHSXKJSxtUxPjeVpV4V6TmaFIV0UUOPJtKojYMs+ameKoMr42fNJVdkas1as/KU3pEB03jpZcGtFQwD1X1DJgs1hGf81m4aP0OCI9pghmUgwhy8t23DYFzxh0x3kfNkFZa1EXHsWphzH6hkmv/0B3+3gnNUdRPyjybhdsJcyaX5gQ45BAS2f2uIPI30p979Ep8E14e++vTU27yoHfJdp/3/PkI89MEULt6H1AVREk5fZB66s+Jy5HjvlztUusYhz6YdJ1YRNFs8NPOT8nRBV3ik5/B6dF2legGgGSv/RDD0oRW8XyFWlQWkY/2tWufWYX0Go07Bdj9RB+BX6xP83S/qnB/o+9cf5sdW+lhvGh0H5bybwn0YnQGKktUN49ozgY0Wbxnfv6Baj6Gb3zzMyEXd6PWpd7fejcmc+OPYxDKEMenzavoIJ5mzIp0rKJfNb+ceYCXrTDWm5M1cimvOppyMhaskC5jwMor5buZOPhpNEusYgzOdTu24AbnLWQytD841G17uso8nTwtTCPs8CDPJf4fTzytLbMSkZFK1u3p+c+b8T6lzhBRoznGRDUiiuM01wGtGuGWYTt450s2sF8L8R3KASYXJ159WiTs/cWTLUDFOmgzLounz/3i9EqvDbDJQoAF+FDZoadIbRoXaMBogfFfjGSOcUY9iz3tMJqTaMmE7tlK/i0XCfhY6TQTRGD2Echi0nxzu6c2BRyudAcWvwDrNOrJcDnsk38Ryc2YLuI0iobeqLT+QTzB5CiT6CAqr1vd3siZunmMQadU1hqtXUxK4urssAbAw+itvXYH/jVtg3CJWuWDqw1DBS3ivMjgJTvjAPQ19Jx/rqNtUy9lOMUd3SC/2JVEppGauansLH5JaqfHxZfj+qRgwXnPJmLb1tV9PJWvf+OnJ4INjzs85pgUl1pKpFtzjW5EAyo+E5qaLdvm5N7PJ8gmXGO2lNs6g+aREpmql8WSf9cNF2WA149s1DBmSPDjTaN6FDpDiHNcDRjXbff2muRSSS/0mm2Y16K7jvf6KVywI3mXzTTB4eVJH2DMWVk+/6P590v9cbzYGAATMAC24iGsMcgFftWGfIli4Xr4aFmYIlJJUgffPwvNbDdZY9PP5w9cQu73WUOd2r513CbZy8Dq44L9P/olGjhh4sQYJaDwXM1tVuZrmt/YXwp9urCCrav43a77ugZTeEAAAPtQZokbEv/VrvW9JNa02OMfHKf9TTUDJL41qm/KHocbLypm6lU64/0vAAAAwDboj0L/d8Hywtle0n03nk0bez/qolT9aRBn2FRA3Jct6Rn2tADURCCRGIUFeX0W9fyc8X0HCNPEVSdViRHWPTfsWyEjASl0B4CQk3zmdXz5RI1rP3I0D05Iw6PjB4fQUJezMmIHyn3wn8XSmncYN1OvLWAr0tGo26IglNLG0qO8FtlV+eENqsI7GpwggIJQbSqUYy46u3KR/0BmDsajQ7+pP2Ir5JgfLGUQVkvhbC0VF/NMdMITXiS9TMoDwLmlVwF3TEqHLwIZyfDGNnbSVeODg/OTl6yUvVZSCpQnRgJpwOrHMHkOzxInI4HexXRSEHwycSL7lGZAalA0D4zk+41B4Iq5RXuM0427Lft1mJAQe1amdzNmf7u/XkanelJSe+3kMejPojVO30coaYzzF9t6VbLGTwsH26Fm4X2L1Ilelt7LjtLxzj7GNMNLAKc5dIfoM/CaeHvEMyn77Sny9+DClwWo//PLZTsOTuyWV3DhCjE2CiUMDn5r3f38UGyDeFUxvc1K6w0L6ztHd4gPYFLf6UFQTLBmFEGAAvL3EMJRuxS+JG/8tjWsxEEMbGU/z/j2+MNsIF/9MIqjp48cxWLI3LczgDAI9oj5eblPdvYj9X3kVTF/+i6fp0xtU3bxqeUoGVfDizv5WbVB3kmH30uaSeXTroAe/ehYFaWwKNWGaZfSrPmSf19rLaFjk+JFT5rNZRg9yIb+DapzIvfZ7wZQf3w3ETDPGwUCw7tiT3ZPG0XpTesdMLrvtHV+a9WAWKrFnE7UIjFDTYnjhuHwc8ks7lOsYcTI5Ascc7MNA5paP5c8sNegqhyfEFZ5HQeEEcYih3bsIhjhTRNgJBFUAHlYkb6PS4fHZ2t724arNO3nP5Pm49DnQP6XItUD1E+dtVKlendMe9SWbe8CSS2+0bNxhRhfQupm146byy1V+B8HxZuLpLmERo/dVIWNeK+sF5u+Cq88NugjpP8wmeeEDDvR0dR7X2vJ3KpMrnQan0+SSlSDtjQTi04/3md5ZE8zE9jJ3SZmxe6BKZRn+fJUrZmqnv8e4j055tP4IdBYL86PcrfHHFWJaXnpzgJAGjviXHnuQtDTkIgG9I8/GrPqkHSRJsHl/LwQJOUU51O1r9x8FHg5Qf/1ZKNf+UAgYKJ0Q4UIdquYVF9yFV5oqBfoDifjwR6QY3iJYg62N0JuYYHA33aPMv3Ob4RBnY1OCtwIdutbncUzZotUki6/YIy13bo2bSSzbks25keriFJnkltIR+zx3CgjTpZ6nc8HtrVgqUeAAABSEGeQnj/xx1/BXutvzTAEK3MX7IHmUFr6R7su/VXx6WtiElbEoMiutjaJj8iZVMbyYIYVUtMu9nQU6qIXGlE6TdSN5wqBBKFTf4uGZ65T9R96h5CaUu/h3085m6KpQ0wbqRcymo1PBZwgnb0WyvNmyaqhSkVcA2VLUvzIwQHoKvE01l7fmGURHDhhzsbomrN5UaBcKlJkCVyxGecEcF2CBS+2yskmRf/UDnznu0uLib/1T2IymsBQo+NBeIKmLt8JS6fk9BB9lsIbxJXNw/f+0LSCxCQg6QhKKS5pQ44mu5Iza4VdMvDprd2HagCgJnYPyigJ+T8HIQ3ZjTYvigVxjQuxDSAPNg5BS+k7tdRpaDCseFOqW8MfhRVJCiIfkzZ8SzQtnuIythf+7XUg3MMDVczzm6UL2H8kyurMY2Fq0bH4CiDqVsPbHsAAADoAZ5hdH9VpdyBBTRvf1kUlALnQevfDH13SCGCYU9qpFVNzIOip4Cs5gbq63gaUyaHzqIodpn+8zPy5FhOcdFlY8xp15x6r0Vqd4GthlQHAM74s9NG5d1TL9nxLQA6RPtJ8VK4nzNPWRoHY32lEijN2GYL8gDSHf+vEXBBPfO1xg/0WeZv4BxXTs6WvSgCzsuQyyQY25qQsj/yrTl+sFEbYMqxyoOUHHaLxUrkLhPGFjYjB/4LSQ3N0L/1vgxGIpbsUjwdL5oHtt/KZ9wIApqRhwlFvomliPWGoXAC5Uk8ireIoTw4Kbm+gAAAANMBnmNqRH/oz80eteOPZt91KLNgyaLomY3jpg7GCAIV5i3yZRD0lqyx1VRJe4lZihB3ccccEtjrEhFnd3Z4xfDUqIy+MhiwXzfIcBqWjppfeDCT5hxJoT6BHsOa9pMg0+0Z9OMRf/q2Bx6SUZk+CHIafZQoAmVjraW89RPGoa8DpMgoaMhR52e4Cf861IkRFxB/2SBF1WJz1cLqa0u8SGUkqnCtp97CZl/b++FgsBZyO/oLISGmOciWR8fWBjlOh0eJYbYSs9nCgwsI1ZnTgjfmpfFhAAADSkGaaEmoQWiZTAv/NgElDrIhsmtiasReSCLYtRSpUdv3b2P2OQMKFVH1wswLNLsWoZxq96Yf2f9zWWA57RO6VyqXOu/F5jJf/e8yZCVFttjG+yYJ1CPSN+ALf3CbkiwItPz15QFx7J2qBxyt23hbXsjqEd6yUwkdKImMLPgDsh/VJWecjjkJfe/5bvVr5+cHRUWAzg8uMQr20YVTYlc0l7BkVDM5E93Snf90axfvf+zFA+2GQ+ZDFUN2BGPJeEcjX4D1BX4WYaMFxfwEO9CCxCbc9JPU7ME7hA4gkO1paB5RC+FyND23giJD1PfMwgGTvdw0cxLDBAL/H0UaxTa8KSNsna0XmthFrUJDHRTBkrnGS3mXDqD/GHNsWS91Nnl05iK60taZhV8aPIVGmHfbWT0YldHowO5vCMaBVuRHSXFg7xpUGk3/3gkPs6I1jOQIJaAXKDAVrO+d6dk3F3nej/rQAB4MnZSV14VgUl1ER5S75y71ejK/UXiZiBxBwcch87CV8YUNDWhY7/QEGUrNQokL7doMYTIc1r/nJBIDJ3WJg4VGVPjVkj76Z2qHIUqeiWvLhXK95raKYcGVJ1p71d+FbkwcoN+h8E0b89xBT12qdPgQS/B7Pl1j8kkV6Y7IfRXUhG8NhJIyK6nkKxu2cl+XHLSbHKx0M3APp8oFveZ4l+7pWfLXfGIK9tnry1GYYjr95ltqEF5iRPuRet0dLAAhMSny4Ds/E9nAEeWxMZ36hWmuLTsJHzOOQ9Yx5RvTHSXOfxXMENkA3eAsz03bBBUxtwCOpctrstvlv2hDt5ikHALGOQdAvnczh6uq+r96Q0wVs7rGbQRrUdIcOo1bvfs0HRJZYxWvN5xZ9KNmA1Y2wQ3O7eBEUecZXLISciR0xke2MOytv51JMP98Hz2kiCw9oA+0v9GG3nfm0lsFyj6qhuI/FncVevLk8iJcuy6ZliUwZf53Puo/n3EmgD9geT7SnMDloZ547DlJMU/LRr8cnN7Qyn7vJpFIHa7bt8/H0bHzOWmNfO7N/tEFkhTxLlAC2I5rTxArhRxN01bsmS2IL7iTOILn7Um8JNYO0e4iFuGHwQgHVbqjD4bP2zO84osssAgeCDvq+5F5AAABbkGehkURL/+s2t/XnCOBDplcLKVIDGhOH5O8HxFG17lr7qcmwI+Ra8PZ/hMgwu1XQBUtj+RyinlZJ813ogOxH2HarqW1kLS/gZG5aQezHv6yid3f80CFNEbaPv3CB8p32hA8txLWpeJ6bQ3VA0C3Lxi8UZJV9uEalcxkGKyF+f1exi4FAfGBWf4PwQzw1YedIFXfcyDKZ5LDcco72nK3Ljo6ylXrajtTXV+5Ryq7iliPm0t+pOY+YF6jd/hIMJ8eY6W8bKEp19koemuecypWa/pBklaWLE05va0sIbsMj1Te7IAYDqshW1dT8Tf3SERLdMjn33d/cKQfftAQyt/2EnDgVMuQOLwhlLyDJlwXK/YHaktHx2ZpQ0lcvALAQS8Ph9e3/Kcd+WO93xNyHa1Blz6Z4TVnLhKD2iwNGFENCNfzV7m4u78G4cQcHrZTg1fKlbOjnkAWFnCIwdRrJMdnFk4ZA0hV9x55EPjMsziLaQAAANEBnqV0f6roto1a03s19cIv61cmlwWX9D5kmMV/bsuo0YdffRln/5tepn7C4VgClcUIgB3rBtAicdWN2+Fl1c++NQQxvVseDHr/b7a7M1YzfYI3OQDN1gEMNk7CpLLa+A+Q5zzJs89G7ACMPkIr0wINK4jxT4XKdtE+3sUBqlFxFGDnnQOjF9EvVr6cM/Zyuru5nSj/spfScJR4cq58IoAvghz+HqRVL08XEOc00mzeDUvoBtwT0i4E+ekaoDUAwSj3eKRNVPOKUndEkkngwgrxgQAAAKABnqdqfyk0kzwCH5swCdUUeSFdDk1L2o0djCxyjvIIUvM0pxGZFFa2K8yS6k8iUFrh9n5InkWXXvRjQ9jk8QFcgWGp3kwOZqmMPLra1ipneysUyCRXVewqID67481zQTIN265h3zWkf3d+lHJYNQNUB9WNiGGXv/n/K/n7rKssQ1tYDdqPFWjwmK5nAcIE2SjVXzR87qFu/KASQe05rk1cAAAInkGarEmoQWyZTAm/u9e1Zrw10lPFTok9N65Q2j+sE/pmvjdGVr/6Pbl5IAA1KMWZFeNyVRSpP0HzS3aAHW4vN00x0ohWfy8Cha3lPCkWsXJrycMyCPtUnBA2v6sFM17Xjfk2xiCKrlacyTNKyCnE+OLa8PjANi+3xlHsS1fdZGO5QVDs9m+P4/IGBngQtzhynVy29gx5VZIrmNkPKxoY4+AMwv2zksFbEbp+VFKmnj8/MtzLpQK+lYuL3VuGkytY2s32mn4H07pEi5SBqC4fgfGCE8eVv2Q72+gL6MMq0+aRYv/Pl/5ce1zNK43UGRusqmQLYxgjjqUEkcCYMJjMH7T+UPHVTlukAczVdmv+qrrZNX0o8YyG2ihhYlRHC24gBXI3o7UTaCMNGOuRZUU026S+bjCZ+cOawAAwmh/0LsSf6MSROzO8osyPOT6mtMSfYpiqNa6F+Dz2wa6vFvW8Nrz5ibZfTHMi+746Qd7CZPXIEHKBrF4dM5azp7K0LjDNjjnrkaicCaApWjaRBB45X4s2GxR+DizDnwLmA0+RbEdtkAhAEv2ptO/4qg72ZL+0hDlqempfpPUwOFmlpb1s+JdjbtOVBLYAERspD0MGj9bn9ISGTaPZv6xGc/mNZTr9MSsP0peSQaOlB1P4ZLXyjdRvn/FVKTu0tDKAY7Gu4mIrwp1T6xC4NDJSwEjjtJNAyS8gBLBdj13R4WvySssRtSA3e5YDl7LaLtFtiKBHcZTlCLXXn5Hgv3/DOcw5OTWv081PiExcn3Rp0u11ysHBZU9+UiQ4MCodg7d8N8wDjr6p9fGM+5RuENXAVTL3/1YwVeisuPEp1hdNkIspJN2uN+gj0ywv7OaXvQ9nCgN4NJiuPNuabtt7CTsPIAxgXm+X0i3y3LJbtlLZ9yBFqXzrd5aFGVVbbUElEUdsc0vc3/sd/xdMJOdP213fTtjS0t9tAEDhGfJcDAQ0eKt8wJpWDM9Xjcv3v2XAMDLmDMBJreJ1hC4VyHlHQTTzP/70Slf3W3/Ae1MW3cIZyRbw1MMqPRPpITfRe/gX8/tcb/LWuFDwNcwha+luAAj1M+eq72KEi0v3gbGXKhQq9z85tTZHGnnkL1rrPGxdZvSQQy+edugSH0VDxe6Sh4ERMBVXmHU2/ZFs+iLGo+36Zk4WNMoKeEkAu2ZyVpov0b00Q487Yg7LRbZ+28PsWVwzyiMJTU5FIGfU1S4gTo//XCjTkvbsr5gpYLPHVNqKL29UKR8DEmbmvy9lhJV+DcbVt4GRyHK/BkdpHSCUmsRo0vH0l2KfkDhU/bA3IGGIuqW+5gu4ZkNJ6uamSCG7hHJ8GLrpXp4HPf61uvGIbIOJ8NEVPE5K7qmwgB+T5cgbVwWweEQS3FL8Hfcmcl6T0Jc6N681t5os9hbr1sjsXKZa2ryh07INemeyXBlVXHxH8t1MPYnbnXoDM90PcJchGlvsroXsAO9P/YkdIFBx6xKPeniTylEKiwbTnkC6A56rzyInAzCKC/ZulUes23i90wUZY0Cjp7bnjpciBJqTF+qRlXZ439r4NpEMiC1B51Vrng1rsLhrF/czCT578TCWOYCT7uwtVhfmahFx6kNAWSXcSeOu4EXA0Ii2nqwUNI/8OWzJR7bkjdF/zObB+nzEhR0ci/KNFPkDop7pLBIYBCYrNf1z4Hz+DP4a1O43tJxOeVDuO3KOdeot0b7+VkbspPkQvSQc+rX5PW7Z1JcDPFP1y11bxODM7OingLRWKBpqrwQ76lc0fOylLfBelMPG3TvChY/RKGu18lkGVEY50iqvsGeWaTqFmRnUwiG0eOClsqPAKxpVqb9fDyCjovB2v8F/tZ+Ov72PXIqDot07vvhXbN3Dj0dioDo9s3ibGa1Psf9GLC3Ul3oPR0a4vw1Vlpn/4wW7LmU7t1inKA4+ICKT2tEcsxqMqV6/g2u7HCmbnmhfSfuUW4IKuX1kSfMr6+TdQpT6Qw2+tLmUl84gYbyq4ziRRfG+0UhnZxee11yfQGDwusPc0zip5RDWV0+GZm26GRwckKNDXffRPl+1XnkZtrmOnY2rQv35fI7jeg9HrOjFnMQ6/d8XUtICaegBcteYfyyfXJKTzu91EvnXiDuBFQ16O/qY45kTi+/jYIcHyBurVSQk+JGJZBg8V3C81gQy3oE1ag+BrPWkfF2hIFl5yW+5chDFdGbYf1nV0wai64T32ymRmCkJHVDnsgnMhzecHqKaS8lY2eXIO6kH8dN5hV7fdWs0w1x0sR9VvW2uAs4HlD5Bq95JKFnbGdUjHlY3hI5JWkIpRcazN6HkXSDQsKCLqBDK/Y+N2+4SqKRVtn4etDq0vj8cCPyuXUTWxfGyB9tzqHcV3FFHyISP0cvcstAuFyAAXR3/6nWBFaUBliH+GZukEJSl4wNihJlQ9XvmSrswn6Phr/wX2REYen7DEXGG/qweEM1tuKlk7H5g0VrAiMbj+jORe5dnEobLsw0ohgXG8UVcGL/1uMtNzIwIZ/BIfYymkPVQ+8EYdMPyV3MUk1O5EAOhXNTtznYi/CZ9jzBalKPgjUFBAKXLrScAX12A3+hi5AUSH7PYluud9Dglz3xi+mxUl1KhWEc+SuRcYon2iO12Hm1d6aNlOe967XQvAJvnJlpAL+zy++7I3p0c5aiuXNLvAFEr8KPKVMN1fzUHt8uI28f5dAaFceX2qcG6tQ8cGXmo5sdDLfx8Cb+NP/EXpNSp+ommVLHVjwzP3Xtn/rbtJtS/mLL3v6L0l9R+lFwhlE0BlDgf7mSjYNBG1ZABNUpXEz5vHnkeALjuD9XgTbhB9i9RwRSgiIsXnQ7o5Gc9u8CiIzGx4S5sbLItl8Ol560qs1jhKFacqqmwUmaHMOoX+qmGDHjVJDOQF81w9x1pC3nGTHOD5pSe4zghRCABsynyGm0TfoUsNz0RVUAepccAAAQBQZ7KRRUsV+9sV4hveeBl3JRDwtmAIJMVcbwCeOeOne8ee3kGW/MUC7twMOqmA/gsUkPgEH7RZD1fxQBT5pQQIaSUffxiBvYXgVVBNlfbsnTnCF7Zx9m2hJxeDirNOthDsrdhEk9GJqsnx/7z8LMImJcwxMnzh28/n28D8ZzJh9xgxu2zpqf4Uqj8CQTVRYpo2/ALfYWz7k1kdPummYmECjT9Y4TYV09Q7gFIsw9F7kUyGI6LzmPZB9oQqPY44hac7iOmWTltfPBEazvJMnqbE/AHmnckFKJHAOtvwSqA3dk3FbiLDeERjrZ08nJPMd+yZ/NiqmXpTYCJa1x74Ct8SIHWNdza09p1pMH7HJwsCekMVSnLFAwkueOkRBT2Y5MRtRClS3HQqlaJ1u/vqweP/6BsYlps4c75VzsN70TLQCcyOCIK/puq98UF/uYGOiTGmKe2WZxYgAUKooTwWQ01yYKC4YNVdeziqzA2gCGRpZPxypJxTgiqCerqnqCouetAdexwEqXg+iwfQoW4tY6QS1faWqdV28TfaDQhyUkwJWpVeYmMFt3lCxhq6gkpBWD/6M2t9IUaHqASpLdGpxrxWXAIcRvPLSuQFNUprtkFZ4uGM50RRD281ERmRQAB3o0bTRAFpW2+djPlH2xuJBEYEHRdwFQgjmF0xqvQAS6wJiotpH+ntzI/jNvOoziHAoa8rVDa4o5Ub5bds6+nZp4FdkNHm5X9q5/eP76F421G6E0smB4jsotzQLO7ZmiLwU7wm5Vb0tTeklBaYy+srWJMGpDvTWaaRVGBuu/AeB8tcgzMh6a9SUjisfNo8lPkqIj1GzMPiE7zSeHrLos6ZN8jbKzrbyLCQ/gXGyhqlNpxLsukx8mWskmZc973v7lDrAAelY5WytEOFUsnNudX7zwXw8dTXjwcY/BQINHf7O5bDPlaMsx7LAfln2JoeuN+eM/efE+LfzvOni9L3hi9oCwSol3DeSb5z5ufi2n8LD4cY8NstTflmp02ZT6C2FAP4SFD5tqBcmY6cK2QhWIWa08YSKWn9xy9MRVhH+Jno+OlzvmYAOAfrhqXrLYWf64Hr1LAVjGTOJSjQLlocWv6D0GULErdewn5Wy4Nk0POvQAotOr2yiERlna9eT5hADDHRrEe7pFdPSOMxsIAeCMhch3wQnjJ6vRMPr6zBBqtd0UIYu4B0uyc2gCMAkKnVhPxu7EV+Yohii6ZTfF820VthVfE0CQAlUrCt/cmD9IniRdKWrXWqMcC3Gj5ygGchuY7WPUd1n1YYPTeCCSgFby8Z3lAo0dUX6d+MKwSTCzmtUvU16FX/bXrCmiC5KJliE1A4AmsqB2aXU5OmH81iLUY0t90s18AAAKwAZ7pdH/kWUNpzzQqOZjUP01uXyBpI8G/31roMDoGkuXxbK0K2JEkglFbgNNbxzPNXj8GvHDRnU2sjTSy1CL9D37emW85AHP/yvXFyX6GAEJsj46YSArOmQbGvdfxRpEj3HLwiowCJOmKKM2o0V3WEzu8wD/hQFv6dEANmJdCpN5VIqM+pLjsOJXaump9z53slVdyBXfwmE7o7XSoJjSbghs3BW79/RdYZAk5bD8xXj3Es4mzSNCW2a0AaEIvgtPdwII+606W3956cqLjIQwPO3ASAW66mICGkounf2E/Ck0TTiYym12RFHQFnmLZqgDQ7Mn251Ut6oIAIjnO9Nr7vFxke/0mewyXXbs6HxT7BDKpkce5jM74GBqAN6PnU/EKKS7vL665GkexGSlLaepFm8ye4mo4QNPHvaIO8mqMChsCTl1LKtW0WPABqnhvRqs7Wi4orOBzN/1Z7RMrwsqJMdrTw35AizICFoB6umfUxvJa1937cHj0KN9SrNWpXbh9Di+EYgI8B73qB82PJju6jjvVtPIq/wA+Xlnwiuox47Ii31L1bEOzoqJ9PnOhaGzjbPme4qorNufBuwqP3HOJHRKSEAOfMcL+uRN2KY7Tmd3MlDLx/o1PkuYEhAvyqukrdnKpnWMpQ/dOJckm3DOvlVHW9C89CvUL8UmeYPRfrDZ0WeP+rz3kMiYCKB4/HsvOSYGE+iQuyptFxHJ4EQOyS5a4s52JxKZGAYSitgwz4I1YYrq7R74fDP0WmWf7Ow1hkCY0K2obm9FE42nI7/++pJV9onmf+YGgQKMk08LhKuDPK9kRr8N3UeXQbwA3OO2AGY6bsYD++NRbnRqTsQhfA1ZPYdqCbhK/jxJpoMzlTTRxtBQO9/cTlDDK6lcWAyD3xlHe5V7CA2l238HEs/L3QAAAA2gBnutqf+1vfGBbI4mPMJih7GpxjSE8ElaYTFHRlhw2YdjolIN10XzaoCV2e7CU/dEIFm9AodtEFUvNYKK75PAxY53EKy5LfNEYCFsC8ovtDwVsIOmesi/0cAIl2Q5vickJnSZVYt3hBknzXbJF99d/I2mherAhAlG1hIAZvCNybEFjJEgDEQY1Ymdzj4cNVw/8gutw/QjYfmwl62lYX2BNWPALYPdP4rox8+dtL6Vijhe/FkAww5W8lOEjftQBpFsuKIFidvMdQlEEVJr36UoS5gZ++ZGMKCLHjNy5aVFG+km7oTCpZnAslDzH6uIF7B2N1fto9nZUiQSqCcjV1KxIRacB5OdeFuduGXgnDKF+aGxS4PfaToldhEnJFIUGeG/2zsoZtol2fo5N1YNqTmqzPKBjWDp6uRPDyE07LyaM4sKzUzymCDZbDqtYUrworD8XOZBH4ppnpzH3kCcgHXkYYGMcZphL41KJ2NgtDYkF1lO5wxhJRXQ4DUulUBbh6czVUJlaakj/AjcnnMtkz0Fi17XfzU2OOVGpFopwWzHiC4SdYnYgckHx5+lJhIViiteE4bStVhcdCDfI8s0lt0kLUxiMeW0FZEtBLMLvyNDOMSVttZyWoxvBIunPp0gvN/lL0kkx8BRwa4tsAFiO2n5xHo9s/9Ci1vTASrafKCVhN8lI8gd4yQYgqd04nijXH1J+Sa1uxQfRvSqpfhKE1wLoOJlT4dBjReDJ3NLM+SMj2/+/m84lhjNfP76wUzhxlpzYPENz12p/C1QHfv5a/kVBS9EODEghewtWK7FyUfV32QPQH9vnVBfjV+p2ekGixPdPXCN7XUDpp3roeYWwYwuGCi+pj/IfLkWoJpBobmzrndN9D5v5xS6xhhwjijtLPuln/vehQaNA+Dxnt6jVWGvdS3EEgWttMs4J2Xb+5D7XGIVJHikmRmu3IQqOWEe2Sivh+FRmiPpp7JHmiVTHfOIz/AuyiXN3xnFWB4IVK54z/LbLFiJHbSv7fs18Je5Qu33bGPlxqZTFtf40e/o1qt+iZc7B2aoc57nsS+MdXIPKMSGw4vHBDRCvlcdOhnTYGvg9xqNQ+rq0Je5MMUG3gEPGoq+mgMd9iGFoXnAUIPgOjloVovtpaTddIUjrZKP4Ez4dAYAsS/ydIAAABp1BmvBJqEFsmUwJv82fBkI7zeHoK15k+7ARH2hmHeGIy+9MSuDNsiTdwAEJUfkL1E987v/+L/7oUN2jqtNIPkaCMGi/LHTPAKaCgmiBANnncVgpUpZR/V9Yw0ogPWcnIYi/ys3eCvseoSLUkeqS0o3IS5BRRoeXD30ldSVDConRSBUzsV1RlET+SMmIoiJpNawdLNmbFB60HSM0qmnswxeMHjv9RqlDQu/hA8ScKUWrUiGDQkixpYnMhFAKJxk5CATNl0l1GnzD7/ql3hdKmzosIz060XMemGEY+hJ6hSYkzcofZvn+FBifJQoA++7Lsby3ikFGiQslXhkuWzya6ZMaGkj38IQD2iuGGxjsF11oDbztTib8XaDrYhb7RpRd/E81FT1rIPc/N7nrsu31P5xw52fNXj3Ajs2+IAYH/7oADeBEwxYALxb4gM3nkrEaz1w5LdzRZ/TXkUcM76D6kvVkqTbekuwXvYlZ3RwIllrm4iIl1BjuFPmzWshuX0o7QDCz0zquH9iwGXg6Q7mW8q2TS5wXl27+/mIUugOX4+ExkRRY9bJ2KEmCJtxi6YHiLUqc46WG+K4Qqb+1CJBJOrhPQ8yIX3SsnrDahqua7eJYsO5rfd3RNwp+1gGuXhgqpvmAe9zLHWcEjwFPhWDxLMvczxOLzyEAymksdvruYgLbMbaMucJuhRSap4KP02jrzsTXXazACIQjB9sxxbmPoyux8bGvsC8of9laNsNmQJlJAWVJHpuO1uO85uTbNHMKvwCX9dLUju7ECw62nEN48RJ+iOmrfZHWYocOz4HBjR1LQViNBs8rXXZggUaDjT6vQCdjo5eoqXrAT6frY/rcjlkoqCSdl8U/H/3cciVLmfVf/XIsegoUTG1MbnXy5Je4mmyxlnCjInkAc7SpG/tGrq7IbsjIwOMeCDq/PVMxeSF0BPfcT3DoW40e5lUsZ8eGo7dZ/C7NDMWpug9S/hqnojrB9yG6AhuHb0/HJ+s7sDX6CaI4kB/m3gqKvbRj/VdQVKGwQAEgw6G7+MYPB0ZnSCj5q0RmWznS0Wa/jpP5cMd9OllfER3mG13e48FfZc5LWGXn6SXYDpNioBs40lVSyRb3gpHru8hwsnZjiZkNaS/lwiptlz8asCBOzwD8ub0t53xKBR8Vork4/kopSnQvwnKI6irWH6yPaK5nB59+iH6ZNqp6ZriqF2Se2TBHvHzRRhjVTuxnFyutDtlRX19kvnJRpgssdCQUoyayuHxrjMagAuScb0TeFZk010FyaamQTEm5Yll2tAKoGXR74J5/o7QkECNh0sfz71LXpDc9tsi0KERQ8Zh7tr4FknbpA8jln8GirDrdhtWddQgKk1l+HL7GJsww930MGBsn8GwBnAhXIgyQlMZ/lX3dicwyuGgHZyCgDaGR5PUr2jgRhTZCtUzFHZ9uF+reFFZ5dKWA0ej9J/nwpOOzxo8OgxqpIhsemg4opDds/Y+kBi7JRfAf1dKsqDdGJWCVOrMFi3QoXIQBlcapCvLI9Gl9RYjvAFCXRIouWQLjsY5e2S8WJlxwujyhrWv/pOfH1/a5HkFpP2RUQTzGgEZ1auq0+YgdGF41mdg8Xy8z758u4oW3qFlX+ilYtFTO/OPasyJEisurTLkZ2EzmvdorSuMG76COyQJlPH6PdkhzWSqeZocCRYe5H2mdB2BJ8OBu7q7M/OaGfD28PBsPc+2gFZ9ORct9p7YhJgO8zrD0N9gA4IkhfXDS78aIJMkCNjxTHHHlnzmz+MRXNvOrD9JxjPWf2V7ODDxfk7IOx0I3n5QMUJXITzRQxxaUhE9Ztygq/0askGp9Wc1duPwRJhVStgLV2PtAiJDUcldFXLkZ2rM8DVoYMa0vchH2m7RToAXbnslquh6M5uzxkdE03jlCxofMoRnVkfQS+A0U5n/dN+MgUfEnhfqoedJl+v7ELnt7T2D/8gVetoahRv3+uFi6wcaw7hsVDUpAlLC77p+va2cgLMAPMCTGtKNomZ4pv2gCVzm8tuHCru+wLFgcauyAmRZ7mmH7EkmyCn/uA5y441YK415tpp5Tr68MJpQiCHFJ+3c0foF0lzbIVDY9osgAnM5ulgw7q4SAi0xvMEE2FCfTaBjE+zPkoPfyiRbjtshkR/GKxICMMJcuq7ibV5EoMPA1MmlRo/mfo/A6USaautDAqUUltHFMOQVtZPXVXG9reF8rhgN0uC2xyIXAELNSUPTYiH6epRNzEZJ6RswSAfIt1QQan73vAAAC0UGfDkUVLf/rPrA8cDmygtHppl/96cKbg2KMYakKvwOUHQAhNKYLHq3aqLcEWkHGZqwRanGUYXoIfmbSUKDLxG8RQZJRmNSOQxB6Lp3UO8xileFAO/vPh8UlTaw85k482vy5b65X1QpBoqi+9DQdopkfzLKdI6etLeP9RTNRee9cKBVqcsZOO1MZ9FbqKt4LFyhK17jeJE5I5rhyUC++2Z3zAgbzOwbjQH9xAsPdweVgUjU4KXUpA+yIWvpXMzom9C32Wjxtf+MXoSYg2d/0jJVFC9WhO8D8eg8D7t5QPc5ZNyXJ2itXE3C7GjzyQVMlCl6jOhnYT6WDNZdRGZaKTwYPT5ritqN+rXiLHhQT1GqSkWVLZ3DP8Ee1Hoo7scIUxsVhOKAWRFXy1ppUp8F/dIWqizYCnUrU73vIsYzVzAssVqiUufxfJum867CoTKvWadc05VG8xC5fyAemTb6nIt/jggcGciTUFJ88eZpX8coHRMYEGeEc9gnuFPpU8aSjjuwSavj/CtgtMLqZucE/WhXp4C2cRaRdYslDuyvmvUPn4mPp9IpIhx71nZ82/VSh++NrlFNP+MP8wzqsH5XJJzhn/HX+IrMWA8hm2/rCxanU52wqMbhisap2xNvRjQsOa1kpljutYqDwuOJg1iCiyCO9Yq8zguD9MMyLvyXldhjBBEaauW6uha6idZJTz+93AV/+bYIwLrqNS/FlnJWuw5kZKxaPZRX2KBhstz4I+W8ZgJzh3nNC/f5tIVLX9LXmyiBjG29hz3UvsZahR+ufVj+FS0t6m0Fd2LVUu7GPwa/7gqvdhhxeUm0MFWef/SThZqHIXuaMRf1upRZwegewiL1qEzLyqYI3SBaEzaFU+ea9rsbWM93l/suCln2exWmdMbqMpKDMn27pcpoxuddmYvYGwZsvL8xINgGJuklastqZ46ygoGHwN0keZABA+D8RjuEAAAKvAZ8tdH/gqp+pZ26zzEiUdEQH4qzZnXT/ltQT8ggqURHHBhwgK8Oq9Ir/6X36FBBcFX+2mUJIRo0QDTGK4T31JAQ+jKBkj1mnByQhvCZa1RDuh37SS//HBW27mfaB67wSkYPFn/BYhreAIQWBRNumNoe/aU6kkZuY8m/VCfdCIrtAjK1ThvUeSsMyVfoNP6di9uN6AfjxG+CDdrn6WcXA6ZjgpUZzC5sllE5ppX3geuPVNSQsBq/QO53q7hS9Ba5y9z3uz3PjKpkIkUEktIk0lv+MlUe9UNl83kgsTwxxMB/WycI6Cd15IoxyK9jaCQdcet+atVlQRos5vYwIjiJg3ztVyccB9/RDXLIqDiRjU+99oirhC/UfTVAbGUFxqiCBHbMxtW4OV+POdaymsM0vjQ8ie4rtsYOFsEUWiX/D5JzvLXtXYUM3cIcGgKYYsLxh6bXu89CdGmVP7ayOSXeADXtIaeFfG0LX1VcF+4j1+2pBXg8KP3T0wHrmNwWnh7/u/O+JspkOk5sqRo7cmkXc/aEvxryS+VcmnDBZYFFH5Lr471+FuZPHTUUxlPprQpdXt9ye5RurVcnnMXT9Gqcag1pF5qHHN8cRmy+lvPxhF/N8PDKgRe+M7gaG+lx3UoKrHlIED8It6lTouovMWB4NoefvkLhas2kHYZrB4p9i1Aysc0gvnLSQP0BJAolhb0Wr5QOSyui5NKxsEJRfbIKL5U9gMYyaXv+3EM6Hkox1Y/dTnc6Wgj/e+LcphNlOk+QgbkODANkkLASeq8aMpd80pn+Me8dw7rV4Uk4amGuwZnRZeAuSnqwm3FKcog7EL7ZobuLjX1kQjAanesCdTkzbsLHj2QdGy825c/+y6aBATvngWdbrdodCJyfSi0itF5vDCXUmAoXXhs0DicCSfqNhAAACYQGfL2pFf+nzzA1us062pWFSEoFcUpVYmhBQhu+Xntmi1Sl/wX3uJeA+6a/eNeSIfTUFpnPUnGcC+8bWeR/El7PSd11BTi2ZBKOdMdI5ipHjIQz3TKpqeAYM5lvEkd20CkigDwI8cgW81TOlKMnDT+FhhY1NdoYYSiEZwBCX6KSkOXDBq5ClfT4GVpIEc55+q55ScBKCiPAhGCM9uLEnzyF55Ps214CirUiT65Y/cje5eaGnnCLc5xDahW+njKyDCGSbb34zpwKz7QnI50efFGvFsEUQG3iHbjaZxfHMsK5FZYeVIdy2g47V2jfE1YjantAiuNnM63vdSVdO6oHVsKagPzRFjpFRUPghVDKrTi1Ck3Df8XdNrns6SVthHlWFaoPp7Q99IfpLtcSoXkMFUYZi4mGU3uJ+WPrWNarnCRUMQS92oUKX75omLB+gV0YOTr4QFW8gksiVPhDM0vmo5ptxPc/xt4uyntA2hewBYk4XM/BhpLnkga3WaZyjU2yVcGQ2YaulLWqvdBsrPPZNIm8z17sfxou4y6zpXsuqlb8+UgFkpaV7L1/4r8fujVhhnj2Qju9Dlz+NOiC8EGO3m0KkIpMrY0giI387j6VliwY0wOXyfZiaUS2D50CQm3zDp42ju43bQbcWIOZ90cBK4CdzLlOWFS4TX57NqVVLSos/a+mUEt+JqzzyFwvLGHnfmwP522dhKpIvW3264VH/h1P1JZ14xTjs0WF8jFo5d2M+rKZGo59cCh8kmPEROf84N2OT3JEA24p1B157/OcpKNAB7ltiNnDXjuIqaAgZhjxNgAAABklBmzNJqEFsmUwP/93LVHLxTxo50DFk83ySSVcGFAM0Z3gmaWwy7UBSfhPT3TaO2FE86XJmcfKYYzrrMzK1NU0kDTRilpVDTf2EgjOFqOMSWRJ501LKRCb5mVjkm1F9Ed+uFkWcHfbRkFCCgtD+CgmYOoiu/puXwqIFTNX6ceLfjjBGLAjZoFkCvqhn1pTxi1Y6RPGq2nbgZUnsUrRJgtdqV3SGi5QNnxWjhgmeVpPupYRxO25Ubc3X0dUIbxJExdsXZGmNGgDyisqXv5sr/eyhgj1ETFd1ou8wS3yvjKgsLhpEWtK97dbQukAH/M9XnhxgLFz14C0tOiEjmjMWs8JGcISzV+FZvArnovsYuztwfZCMu8thA05qh6xeblFSZNqUuTCngl24sJT7sDw8jHZzcrhsyOsMbDBJPjTtcHTH7w6ZbyhhUgkrfcfSQ1+4YmvuLsGCsfMPirNvoNPLav+XFSpABnOaFtkcJF1B8srctRnD8vGmiEhcP65cViUYbXjd4nGKFo1ltHNvzCj5sRmqh3Sy9HFFA8z6Ei2RjXBUMZYFqLplKxzZ4yRwLCDb4PdnR4Kh7bVTY16oxM42NV0W6pGU/UjcTm3aVZN6TzX1LczuOfcCPbs2rmdfY55q1fh2JUMrdIhmVBh7pvqDvHIR5013TZ2Ykh/+idz31afrYu7om2n1qLe1GRbL/ULSgpMjl8JFcektbOQBVhk+D9DIQvfS9vg9Kq5RXpKwyBI5ekFk+452ICTWPI+Ou17CTFwds5dMW6mxr14a4+d6EyGce9dKS0EdLRWdMQzmb97nXBZWbhttbjMn+Y/QK3FkAmgfASU7eQV1fGWRiQnPKxyucNk8lSWv5pQsdIYTGl4QcfIL7rmirw7TUJ1u6HN0JK5QMACc2RFHSJ8KboV4A0PlaFeH9gJasoKTrn2wlZL9ptccKJ14hHAjQqx+sUJLdePeZ57vPioBfZOaLalsnk+3YwOc4PVTw+Z6e2kbAR/EJSmYEW8gj/SlGCWG3eL/NGbQbvcnyGhnOhD2qb0d507lYIwednMUZOgR7VflnMuKJNz5m0mkhbx5wXnU27syWh+lVDABgyCk47b3tHsXMFUE71UhY27Yie2vGl3/UYjsNseMk6oFBz0SdLQCLJwZS16JFLJiyGjV0WrMhH534jSPPgPAlxwg3cErkEzlIurqro2kWDKznr2pAlRheoSs5ZZG1kynF2RRms8DnxHiqJ7mXdr8Aq2CvYbWYh0NrZbF1s7Zj8wGOcZCz3g2I1QQ0nJJVbOdPhHOVvWDtcnzUob8a5XeSQQKnyRNZTxEuZyPE/9JhyEn5v92pPimywreOTR1X/Z5sz3CaYqhS6dzIJIMl+ybTSQSB2T9L332VVe3ii9gl+olXNzeEoWg+B7EjHkJZ8VrESen+olQJ5uYOk34ZUAMIvrQD79Jhk7H+i5kzxW6t4c7DQWvONMrx3dCfE68hYzIhu4+bskUdYyS1bFs7BCLD0t/cTLUWSC0A1cpg1wlAFh003l82Fm92McJscg4FAfQ5RfbRUy/kB9tGArGg40UxewZzE6R+Jd4jvef3yRp68Jwp3/K7qsr0zAhabb0W37/8bvtqG3CnHB/uB3hAxBA52s03KG1Ly9gwZF7XcUV5CDgVYZfXteK6u4LLQb9YRq4nTRgtE1GJr9bgvI3qaHrJdJDHh2ZIm9AuVujSskGDPtbMb2QFTlSITNvGCK44UpuKlox+is9SsdhUi5fmOjRPx1btH3ooHgRE7vI0ykToDqhNTO4cxC5xr1sFabuCLD75jOs+Q8kHus7kAGcyIahtOCOtrg+1PGybUXOw4JvK+qhSYu4QrCrYY0NpTa1YmvM81uArFha5PEyGf5s2qyeBOUCGCrd1EuGw+lFTuo8kfKjZEcsbqaetfuICrz8cD04eBlRHWLPv+fcJXhcnozk4IjHL4XDuDOlvTgsmwS5A4ZOlbnlD4tKHZY75WF7vk2NEgVwhEyPvXjSwF5sBjO4D6rEraQ+ssc8O+wL2GU8QTHay7q0stX4JAyCZgm2xFqalPLm2OqRsuSFVFTU8TOWtzJcQiz7nsBXLIJYFBq/I/Rbem4pZk1iOU0zjtIFQ+P6k/9xHpsb1ep2+ESA0PWFxqpw3KzSAAAEWEGfUUUVLN/754QkEHOAPGCBf5NBoy4aK3HSdewHxsyUt+ZIIZTCN9K4Cqe1gUUfmesXvetMninwUweVOVp8wIpOIAL3h0exC+jAZhBaHdXgKFCr09GkyQcNkzbXcX5hH1aXTqafwpsBBfu9sUr44EtOQzPI++RM+xzoqfXQHktNKY8l/VlJQhDHccm2piv7eyw+F6hZ10fuHCLdYPk8FfmmoztO2XIEOqV/5QQpebCthuU/pDhYzHsCpLeje/RU0FhMt4+Yi7ep5z2i/wZHajE7XiiZw7pnCOwxi6WyQZI5saVT3TlWFROMcCG+DEV5V8NdwbmjmjjZuyKqQ+ai56E8ByTF2+qh9CGoNfVw2apatmAsx29mr5KxmTrfauB5SuTRBwB+KaOfqyGxEd6BkZiubzNzClq0MtdAdQw1kN0OXeRpicjny78Ffj+HaSTNOrrgQPv42eJogfA/4z3PPfhcsfmO18R7J5zWADevyE8og+419lvbS+0sJeL1HP3CGZDFB+FoWubiIJqr9RSDCbxYayn392/IhRRgf81OX1Kqz+IQQiMU+K/qR2rGP/95+N1jDmtgdivfnQP8kzjaR4MmIzL8wMUDr8Ha1M5iAhyUdvQIZVASoktk0HhvTdQRwMvbTZ6B0x43BvqJbwC/6CSuw9xcusrlmDgJUBycfvUq7X2O/70sDk4RRMM3ddlFF7Bfu9ouoRY9LrwJO3/WRqhHUA3wkDeGVM/W57s1q5XXsqZTw7GG/CcN7wupExMEfknrwldkziSvWVTN2b+Oh+uYY4sGqOADCyMySXmFT9AofMpoN1dL/oKBOL3MHyRUBbHtJ+n7Q9oVECogR+NPdWYlroahW2VUfKGNBoCPzgKPDgCDWbfG7FjurDWuBbSCoIKOnbXW1Uj5HbyFE0P0wEMRm08KrscTl849d+f1OJdl5MdLniH4pYuF2eEX/fQVTfh+3RODZtLsJyX3V7oT0z6bz1VL6lNaFk4f0ANpbn6ff+A3madE2T3VggTZdV/kLAafSDReo7g5HVwJBuqjo3/0vj7NxTs7yZKVAIIexsCXBQSSFj9iZ6S1Qe6R2k4cPanxZNjRLEXxGwBWRZQodTu9gZeHjmOVLh1Q0ioH4k/gnwIde+MUxFQZ9bHgNEHRZvIlw/kdKwqjXHsgO803FeXRPSMsOJzXaZ2Fq1Uxx2dXsX7qT5nLRAXeYERemZ6CGMSl6MHZMpOohH9eCVHUh4/jcLaWlYpfCsaXe/a1umZzlhM5iys7+AS/YF6Y778V0+WDNz9wGHz2eQiTzdF8nsVxwZhzvRJ3vus33qBUypLg/sUBgP4ntErniCl0L8iVI1dhfYH6+oEcZ60zHfSyskHPZIT7EyVvTRdOyk4/caUdieHdn8J1vVydsAZynfCgQqJJzb7wN3RcRI0kUOxoQym0iCCU6Y8l2llusooCqtWyNtAf3hXheQJoZ5205dm6Jzcam8L3OHfBAAADlAGfcmpEf/Keb00XX1xPdkgdXEpL+mKpxafu5t3d+uxxQygOsxmCQ8amAhys+x14UvmEElnBaJt272SA/uIraUpxoks0fAsSgzVv/gp/206q0BV6zWi2CEgpgDs7m8FTkByzlyGyUlsrrIkdSCrcwbHHv0S3zsCMBi+MaQt0+gnSepR6vFJNMqCvbF6Vubzk3DOPCuF0On11nF4IrQj6K4chT+iD2U+xUrylsjBlaZ+jZsHuBfulWvDUrLAh88iH9agQ7qq+tfkaHvaGhx9wabFHDpjAR2UHtfqGZo4ZBFBaUJ9WJVCTnCSLz2QWPwRcGJnxWXr2L3odzPWKF4lAY1JtduOsM5hp4eNigG0jxUwbgbW7kBLELxjTDXL+47c5qCbBly++nXDitzaM512ISAO6jt1Mcs1ad28fTZjeMZxxVs84M+Yn2Cr9ZcpJKdnfS1IellavWwuFdkEILUvpbSOVIsXA27fhZ0MKQoy9yur0exy897732pYaPC2StpR7l7KQLcBwH5+NlsdTT0HbOLYWHntfqk7+B9oLIdzXr5mUfkjMGuYrQxknhtl3XC2q04jfQeBAYItgULZXcGkvKHCRwNQQE5tx+GJgLLrylz/o/jkWCnfKmcAPv3GK+DnISTcSHd3GY3pyTTr9W7VykmZBNlQDWxS9TQAiwcSkzr+yd7v2oXnKCjz+7nUOnOfDUUHxlwy18IBuf5NGE6FucNExvWgscXmDG4JDK19QgX1RtVo1qKCzYlXUYRlKT37ZeXoRFTiarcJrdugvDpk9GEvgpGDjnyopsoIlEIHdAwU5C/XHIw5cfJmX62WBYvr+XqK6iVmlO6H9/orjcdM0OHxWklSNtTOS/CcoZQZ0qxSuil6piaFy5gyKbhhPoEy/Jad1dFLeOape0gsje+5ZWHJ908M3sLAvOm4Ei/QENyNCQ6zn79y1o+x9WtdNxbcd5xfgAKJlhH8PtlkYalaYJk4HzqoiHeLTudd5AkYRalAwzRyL/kLzcQHXnv0R6Bnmh/XbGDr99CGOmKnoCOsMfLnd14RRUeEB3vT0uzWD4vFI9dB3GWyOnVl/ISeCek0pqy+IkpfDWITJ+hHBdBC0x9UYKILTZlHdx8miqxD0foeEqDbEIc/8OwXXudTNmiX73GIOnZOn8yUD69Di/9yY0PX3khufpHRT4j+UxJRZulyF7IHdc6PHnsAmm3e/Id8fWmTeeIAAAAPlbW9vdgAAAGxtdmhkAAAAAAAAAAAAAAAAAAAD6AAAApsAAQAAAQAAAAAAAAAAAAAAAAEAAAAAAAAAAAAAAAAAAAABAAAAAAAAAAAAAAAAAABAAAAAAAAAAAAAAAAAAAAAAAAAAAAAAAAAAAAAAAAAAgAAA1B0cmFrAAAAXHRraGQAAAADAAAAAAAAAAAAAAABAAAAAAAAApsAAAAAAAAAAAAAAAAAAAAAAAEAAAAAAAAAAAAAAAAAAAABAAAAAAAAAAAAAAAAAABAAAAAAgAAAAEgAAAAAAAkZWR0cwAAABxlbHN0AAAAAAAAAAEAAAKbAAAEAAABAAAAAALIbWRpYQAAACBtZGhkAAAAAAAAAAAAAAAAAAA8AAAAKAAAAAAAAAAALWhkbHIAAAAAbWhscnZpZGUAAAAAAAAAAAAAAAAMVmlkZW9IYW5kbGVyAAACc21pbmYAAAAUdm1oZAAAAAEAAAAAAAAAAAAAACxoZGxyAAAAAGRobHJ1cmwgAAAAAAAAAAAAAAAAC0RhdGFIYW5kbGVyAAAAJGRpbmYAAAAcZHJlZgAAAAAAAAABAAAADHVybCAAAAABAAACB3N0YmwAAACXc3RzZAAAAAAAAAABAAAAh2F2YzEAAAAAAAAAAQAAAABGRk1QAAACAAAAAgACAAEgAEgAAABIAAAAAAAAAAEWTGF2YzU3LjEwNy4xMDAgbGlieDI2NAAAAAAAAAAAAAAY//8AAAAxYXZjQwFkABX/4QAYZ2QAFazZQIAloQAAAwABAAADADwPFi2WAQAGaOvjyyLAAAAAGHN0dHMAAAAAAAAAAQAAABQAAAIAAAAAFHN0c3MAAAAAAAAAAQAAAAEAAACoY3R0cwAAAAAAAAATAAAAAQAABAAAAAABAAAKAAAAAAEAAAQAAAAAAQAAAAAAAAABAAACAAAAAAEAAAoAAAAAAQAABAAAAAABAAAAAAAAAAEAAAIAAAAAAQAACgAAAAABAAAEAAAAAAEAAAAAAAAAAQAAAgAAAAABAAAKAAAAAAEAAAQAAAAAAQAAAAAAAAABAAACAAAAAAEAAAgAAAAAAgAAAgAAAAAcc3RzYwAAAAAAAAABAAAAAQAAABQAAAABAAAAZHN0c3oAAAAAAAAAAAAAABQAABWSAAAD8QAAAUwAAADsAAAA1wAAA04AAAFyAAAA1QAAAKQAAAiiAAAEBQAAArQAAANsAAAGoQAAAtUAAAKzAAACZQAABk0AAARcAAADmAAAABRzdGNvAAAAAAAAAAEAAAAkAAAAIXVkdGEAAAAZqXN3cgANVcRMYXZmNTcuODMuMTAw\"></video><div style=\"position:absolute; top:55px; left:20px; font-size:20px; color:#ffffff;\">당황</div>"
            ]
          },
          "metadata": {},
          "execution_count": 11
        }
      ]
    }
  ]
}